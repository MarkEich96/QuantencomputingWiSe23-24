{
 "cells": [
  {
   "cell_type": "markdown",
   "id": "dad86512",
   "metadata": {},
   "source": [
    "# Einstieg in Qiskit\n",
    "Dieses Jupyter Notebook soll einen ersten Einstieg in Qiskit ermöglichen und einige der grundlegenden Abläufe und Operationen erläutern. Es ist entsprechend unseres Kurses anglegt."
   ]
  },
  {
   "cell_type": "markdown",
   "id": "25170c4b",
   "metadata": {},
   "source": [
    "## Vorbereitungen\n",
    "Zunächst müssen einige Module geladen werden, damit wir mit Qiskit konfortabel arbeiten können. Diese ersten Zeilen ändern sich kaum und sollten in jedem Notebook am Anfang auftauchen."
   ]
  },
  {
   "cell_type": "markdown",
   "id": "18d4d1d4",
   "metadata": {},
   "source": [
    "Das erste Modul, das wir laden, ist `numpy`. Es erlaubt uns viele verschiendene Rechenmethoden und kann hier und da sehr nützlich sein. Wir laden es als `np`, so dass wir numpy funktion mit `np.funktionsname` aufrufen können."
   ]
  },
  {
   "cell_type": "code",
   "execution_count": 1,
   "id": "24f59b9e",
   "metadata": {},
   "outputs": [],
   "source": [
    "import numpy as np"
   ]
  },
  {
   "cell_type": "markdown",
   "id": "10b97c0a",
   "metadata": {},
   "source": [
    "Das nächste Modul, das wir laden, ist `qiskit`, welches uns erlaubt Quantenschaltkreise zu konstruieren und auch zu simulieren. Eine Dokumentation kann auf \n",
    "https://www.ibm.com/quantum/qiskit\n",
    "gefunden werden."
   ]
  },
  {
   "cell_type": "code",
   "execution_count": 2,
   "id": "512e715d",
   "metadata": {},
   "outputs": [],
   "source": [
    "import qiskit"
   ]
  },
  {
   "cell_type": "markdown",
   "id": "36509ca5",
   "metadata": {},
   "source": [
    "Um nicht ständig den Namen qiskit ausschreiben zu müssen, laden wir die wichtigsten Unterpackete direkt in unser Notebook. "
   ]
  },
  {
   "cell_type": "markdown",
   "id": "54bdb5d2",
   "metadata": {},
   "source": [
    "Zu diesen Zählen zunächst die Module: \n",
    " * `QuantumCircuit`, das es uns erlaubt einen Quantenschaltkreis zu erstellen\n",
    " * `QuantumRegister`, das es uns erlaubt einzelne Quantenregister zu erstellen, die wir dann zu einem Quantenschaltkreis verbinden können\n",
    " * `ClassicalRegiser`, das es uns erlaubt einzelnen Register aus klassischen Bits zu erstellen, die wir ebenfalls in einen Quantenschaltkreis einfügen können. In ihnen werden die Ergebnisse der Messungen gespeichert "
   ]
  },
  {
   "cell_type": "code",
   "execution_count": 3,
   "id": "7adf91a6",
   "metadata": {},
   "outputs": [],
   "source": [
    "from qiskit import (QuantumCircuit, QuantumRegister, ClassicalRegister)"
   ]
  },
  {
   "cell_type": "markdown",
   "id": "4df6c093",
   "metadata": {},
   "source": [
    "Ebenso wollen wir die Quantenschaltkreise simulieren können. Dazu laden wir die Pakete\n",
    " * `execute`, das es uns erlaubt Quantenschaltkreise mit einem gegebenen Simulator auszuführen\n",
    " * `Aer` und `BasicAer`, die es uns erlauben, die QUantenschaltkreise zu simulieren"
   ]
  },
  {
   "cell_type": "code",
   "execution_count": 4,
   "id": "bedfd3ce",
   "metadata": {},
   "outputs": [],
   "source": [
    "from qiskit import(execute, Aer, BasicAer)"
   ]
  },
  {
   "cell_type": "markdown",
   "id": "0cf8b2ff",
   "metadata": {},
   "source": [
    "In manchen Quantenschaltkreisen, werden wir unsere eigenen Operatoren definieren müssen. Dazu kann das Paket `Operator` verwendet werden"
   ]
  },
  {
   "cell_type": "code",
   "execution_count": 5,
   "id": "85e349c3",
   "metadata": {},
   "outputs": [],
   "source": [
    "from qiskit.quantum_info.operators import Operator"
   ]
  },
  {
   "cell_type": "markdown",
   "id": "288e5aa7",
   "metadata": {},
   "source": [
    "Schlussendlich wollen wir in der Lage sein, die Ergebnisse der Simulation und der darin auftretenden Messungen zu simulieren. Dies geschieht mit dem Paket `plot_histogram`."
   ]
  },
  {
   "cell_type": "code",
   "execution_count": 6,
   "id": "bd6a910e",
   "metadata": {},
   "outputs": [],
   "source": [
    "from qiskit.visualization import plot_histogram"
   ]
  },
  {
   "cell_type": "markdown",
   "id": "dc1d1f4d",
   "metadata": {},
   "source": [
    "Nun möchten wir noch ein paar Voreinstellungen treffen:\n",
    " * Abbildungen sollen im JupyterNotebook direkt angezeigt werden\n",
    " * Der Simulator für die Quantenschaltkreise soll festgelegt werden"
   ]
  },
  {
   "cell_type": "code",
   "execution_count": 7,
   "id": "c68c3024",
   "metadata": {},
   "outputs": [],
   "source": [
    "%matplotlib inline"
   ]
  },
  {
   "cell_type": "code",
   "execution_count": 8,
   "id": "ac5e85f6",
   "metadata": {},
   "outputs": [],
   "source": [
    "simulator = Aer.get_backend('qasm_simulator')"
   ]
  },
  {
   "cell_type": "markdown",
   "id": "f18b7032",
   "metadata": {},
   "source": [
    "## Schaltkreise\n",
    "\n",
    "### Einen Schaltkreis anlegen\n",
    "Um einen Schaltkreis anzulegen müssen wir den Befehl `circuit = QuantumCircuit(<#Qubits>, <#Cbits>)` aufrufen. Dabei legt `<#Qubits>` die Anzahl der Qubits und `<#Cbits>` die Anzahl der klassischen Bits in unserem Schaltkreis fest. (Alternativ können auch erst Register erstellt werden und diese zu einem Schaltkreis zusammengefasst werden, das wollen wir aber erst später machen).\n",
    "\n",
    "### Operationen auf die Qubits anwenden\n",
    "Um auf diesem Schaltkreis eine Operation auszuführen muss `circuit.operationsname(<args>)` aufgerufen werden, wobei `<args>` mögliche benötigte Argumente der Operation sind. Sehr häufig handelt es sich um die Spezifikation des Qubits, auf das die Operation ausgeführt werden soll. (Wie auch in unserem Kurs beginnt die Nummerierung der Bits mit 0) Eine Liste der Operationen haben wir im Laufe des Kurses angelegt und diese kann auch hier verwendet werden. So wird bspw. die Hadamard-Transformation auf das Bit 2 eines Quantenschaltkreises mit 3 Bits durch `circuit.h(2)` ausgeführt. Soll eine Operation auf mehrer Qubits ausgeführt werden, ist es auch möglich statt der Zahl des Qubits eine Liste in Form von `[Q0, Q1, Q2, ..., QN-1]` zu übergeben. Noch einfacher ist es `range(Q0, QN)` zu übergeben.\n",
    "\n",
    "Die Qubits können mit dem Befehl `reset(<Qubit>)` auf den Zustand $|0\\rangle$ gesetzt und somit initialisiert oder auch zurückgesetzt werden.\n",
    "\n",
    "### Den Schaltkreis ansehen\n",
    "Durch den Befehl `draw(output = 'mpl', filename = <filename>)` kann eine Skizze des Quantenschaltkreises erstellt werden. Das Argument `output = 'mpl'` sorgt dafür, dass ein bestimmter Zeichenstil für die Skizze verwendet wird, der diese wesentlich übersichtlicher macht. Zusätzlich wird die Skizze im selben Verzeichnis wie das Notebook unter dem Namen `<filename>` gespeichert.\n",
    "\n",
    "Da Qiskit die ausgeführten Operatoionen versucht möglichst dicht anzuordnen, kann es passieren, dass die Skizze etwas unübersichtlich wird. Um zu verhindenr, dass Operationen, die erst viel später kommen, zu früh angezeigt werden, kann nach einzelnen Abschnitten des Schaltkreises der Befehl `barrier()` eingefügt werden. Diese Barrieren erscheinen als gestrichelte Linien im Schaltkreis. (Durch den speziellen Befehl `plot_barriers = False` beim Aufrufen von draw, werden die Barrieren nicht eingezeichnet. Es ist auch möglich die Barriere mit `range(Q0, QN)` nur über bestimmte Qubits zu ziehen.) \n",
    "\n",
    "\n"
   ]
  },
  {
   "cell_type": "markdown",
   "id": "5262731d",
   "metadata": {},
   "source": [
    "### Aufgabe zu Schaltkreisen"
   ]
  },
  {
   "cell_type": "markdown",
   "id": "0057cc13",
   "metadata": {},
   "source": [
    "* Baue einen Quantenschaltkreis mit 2 Qubits und 3 klassischen Bits.\n",
    "* Führe auf beide Qubits eine Hadamard-Transformation aus\n",
    "* Wende das X-Gatter auf das Qubit 0 an\n",
    "* Messe beide Qubits und schreibe die Ergebnisse in das klassische Bit 0 und 1\n",
    "* Setze das 0te Qubit zurück\n",
    "* Wende das U-Gatter mit Parametern Deiner Wahl an (Winkel werden in rad angegeben, das heißt 2$\\pi$ entsprechen 360°, pi kann mit np.pi aufgerufen werden)\n",
    "* Messe das Qubit 0 und schreibe das Ergebniss in das klassische Bit 2\n",
    "* Lasse den Schaltkreis zeichnen"
   ]
  },
  {
   "cell_type": "code",
   "execution_count": 2,
   "id": "1dea605c",
   "metadata": {
    "scrolled": true
   },
   "outputs": [],
   "source": [
    "# Hier könnte Dein Schaltkreis stehen"
   ]
  },
  {
   "cell_type": "markdown",
   "id": "986a3bc7",
   "metadata": {},
   "source": [
    "### Schaltkreise simulieren\n",
    "Um den Schaltkreis zu simulieren wird der Befehl `execute` mit dem Schaltkreis `circuit`, dem Simulator `simulator` und der Anzahl der Durchführungen `<#Versuche>` aufgerufen. Um die Ergebnisse später auslesen zu können, werden sie in dem Objekt `job` gespeichert. Die entsprechende Code-Zeile lautet also: `job = execute(circuit, simulator, shots = <#Versuche>)`.\n",
    "\n",
    "Um die Ergebnisse auszulesen wird auf `job` die `result()` methode angewandt und in dem Objekt `results` gespeichert. Es muss also die Code-Zeile `results = job.result()` aufgreufen werden.\n",
    "\n",
    "Zuletzt werden die Ergebnisse in einem Histogramm aufgretragen. Dazu wird `plot_histogram(results.get_counts())` aufgerufen."
   ]
  },
  {
   "cell_type": "markdown",
   "id": "f935edf2",
   "metadata": {},
   "source": [
    "### Aufgabe zum Ausführen von Schaltkreisen\n",
    "Führe den zuvor konstrierten Quantenschaltkreis 1000 mal aus und lasse das Histogramm aufzeichnen. Interpretiere das Ergebnis. Probiere dazu auch gerne verschiedene Parameter für das U-Gatter aus."
   ]
  },
  {
   "cell_type": "code",
   "execution_count": 1,
   "id": "4ee155d6",
   "metadata": {},
   "outputs": [],
   "source": [
    "# Hier könnte Deine Simulation stehen"
   ]
  }
 ],
 "metadata": {
  "kernelspec": {
   "display_name": "Python 3 (ipykernel)",
   "language": "python",
   "name": "python3"
  },
  "language_info": {
   "codemirror_mode": {
    "name": "ipython",
    "version": 3
   },
   "file_extension": ".py",
   "mimetype": "text/x-python",
   "name": "python",
   "nbconvert_exporter": "python",
   "pygments_lexer": "ipython3",
   "version": "3.8.1"
  }
 },
 "nbformat": 4,
 "nbformat_minor": 5
}
