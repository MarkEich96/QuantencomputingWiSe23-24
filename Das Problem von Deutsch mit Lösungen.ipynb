{
 "cells": [
  {
   "cell_type": "markdown",
   "id": "3494501b",
   "metadata": {},
   "source": [
    "# Das Problem von Deutsch und verwandet Algorithmen\n",
    "In diesem Jupyter Notebook werden ein paar Algorithmen vorgestellt, bei denen es darum geht auf besonders effiziente Weise Eigenschaften über eine Operation deren Details unbekannt sind zu bestimmen. Eine solche Operation, die quasi als abgeschlossenes Bauteil übergeben wird, wird auch als BlackBox bezeichnet. Im Fall von Quantencomputern werden Bauteile auch häufig als Quantenorakel bezeichnet. \n",
    "\n",
    "Zunächst wird ein Bauteil betrachtet, das nur mit einem Eingabe-Qubit arbeitet und es wird bestimmt, ob die Operation balanciert (eindeutig umkehrbar) oder nicht ist. \n",
    "\n",
    "Die beiden anderen Algorithmen bestimmen Eigenschaften eines Bauteils, dass beliebig viele Qubits entgegen nimmt und diese entweder auf $0$ oder $1$ abbildet. Alle diese Algorithmen haben gemeinsam, dass sie ein Hilfsbit benötigen."
   ]
  },
  {
   "cell_type": "markdown",
   "id": "5d5018bd",
   "metadata": {},
   "source": [
    "## Vorbereitungen\n",
    "Wie am Anfang jedes unserer Jupyter Notebooks werden einige Pakete geladen. (Siehe hierzu bspw. [\"Einstieg in Qiskikt\"](https://github.com/MarkEich96/QuantencomputingWiSe23-24/blob/main/Einstieg%20in%20Qiskit.ipynb) oder [\"Zufallsgenerator\"](https://github.com/MarkEich96/QuantencomputingWiSe23-24/blob/main/Zufallsgenerator.ipynb))"
   ]
  },
  {
   "cell_type": "code",
   "execution_count": null,
   "id": "f9e0306e",
   "metadata": {},
   "outputs": [],
   "source": [
    "import numpy as np\n",
    "import qiskit\n",
    "from qiskit import (QuantumCircuit, QuantumRegister, ClassicalRegister)\n",
    "from qiskit import(execute, Aer, BasicAer)\n",
    "from qiskit.quantum_info.operators import Operator\n",
    "from qiskit.visualization import plot_histogram"
   ]
  },
  {
   "cell_type": "markdown",
   "id": "a96fbbb4",
   "metadata": {},
   "source": [
    "Und ebenso werden einige Voreinstellungen über die Ausgabe von Grafiken und der Simulationssoftware getroffen."
   ]
  },
  {
   "cell_type": "code",
   "execution_count": null,
   "id": "c6b3026e",
   "metadata": {},
   "outputs": [],
   "source": [
    "%matplotlib inline"
   ]
  },
  {
   "cell_type": "code",
   "execution_count": null,
   "id": "a454c422",
   "metadata": {},
   "outputs": [],
   "source": [
    "simulator = Aer.get_backend('qasm_simulator')"
   ]
  },
  {
   "cell_type": "markdown",
   "id": "951c23e0",
   "metadata": {},
   "source": [
    "### Erinnerung\n",
    "In der Vorlesung hatten wir die Operation\n",
    "$$x\\oplus y = (x+y)\\mathrm{\\, mod\\,} 2$$\n",
    "eingeführt, für die \n",
    "$$0\\oplus 0 =0\\quad\\quad 0\\oplus 1 = 1\\quad\\quad 1\\oplus 0 = 1\\quad\\quad 1\\oplus 1 = 0$$\n",
    "gilt. Sie ist äquivalent zu einem ''Exklusiven Oder''."
   ]
  },
  {
   "cell_type": "markdown",
   "id": "4f5ac139",
   "metadata": {},
   "source": [
    "### Nützliches\n",
    "Für viele Probleme in diesem Notebook können die Wikiversity-Seiten zu [Qubits](https://de.wikiversity.org/wiki/Kurs:Quantencomputing/Qubits) und zu [Registern](https://de.wikiversity.org/wiki/Kurs:Quantencomputing/Register) sehr hilfreich sein."
   ]
  },
  {
   "cell_type": "markdown",
   "id": "7808e533",
   "metadata": {},
   "source": [
    "## Das Problem von Deutsch\n",
    "Es gibt vier Operationen, die auf ein klassisches Bit ausgeführt werden können (Dabei ist $x\\in\\{0, 1\\}$ immer der Wert des Bits):\n",
    " * Die Identität $I$ mit $f(x)=x$\n",
    " * Der Bitflip $X$ mit $f(x) = 1\\oplus x$\n",
    " * Die konstante $1$ mit $f(x)=1$ \n",
    " * Die konstate $0$ mit $f(x)=0$\n",
    "\n",
    "Die Operationen Identität $I$ und Bitflip $X$ sind eindeutig umkehrbar: Ist das Ergebnis $f(x)$ und die Funktion bekannt, so ist auch klar, welchen Wert $x$ das Bit vor der Operation hatte. Außerdem werden gleich viele Eingabewerte auf $0$ wie auf $1$ abgebildet. Aus diesem Grund werden diese beiden Funktionen auch als _balanciert_ bezeichnet. \n",
    "\n",
    "Dem gegenüber stehen die Funktionen konstant $1$ und konstant $0$, die weder eindeutig umkehrbar sind, noch gleich oft auf $0$ bzw. $1$ abbilden. Sie werden als _konstant_ bezeichnet.\n",
    "\n",
    "Um zu unterscheiden, ob ein gegebenes, aber unbekanntes Bauteil, eine konstante oder balancierte Funktion ist, braucht ein klassischer Computer 2 Anfragen."
   ]
  },
  {
   "cell_type": "markdown",
   "id": "4d98bfd2",
   "metadata": {},
   "source": [
    "__Aufgabe__: Mache Dir die letzte Aussage an Hand der Funktionen von Oben klar."
   ]
  },
  {
   "cell_type": "markdown",
   "id": "462638f3",
   "metadata": {},
   "source": [
    "__Lösung__: Bei der Identität würde bei der Eingabe $0$ die Aussage $0$ erzeugen. Diesselbe Ausgabe würde aber auch bei der Funktion konstant $0$ entstehen. Damit ist noch nicht klar, ob es sich um eine konstante oder balancierte Funktion handelt. Die gleiche Situation ergibt sich für jedes mögliche Paar von Ein- und Ausgabewerten. Es gibt immer jeweils eine konstante und eine balancierte Funktion, die in Frage kommt. Erst durch eine zweite Anfrage kann genau bestimmt werden, um welche Funktion es sich handelt."
   ]
  },
  {
   "cell_type": "markdown",
   "id": "051ce219",
   "metadata": {},
   "source": [
    "Mit Quantencomputern ist hingegen nur __eine einzige__ Anfrage nötig. "
   ]
  },
  {
   "cell_type": "markdown",
   "id": "1789cf65",
   "metadata": {},
   "source": [
    "### Umkehrbare Operationen\n",
    "Wie wir besprochen haben, müssen Operationen auf Qubits unitär und damit eindeutig umkehrbar sein. Die Operationen konstant $1$ und konstant $0$ erfüllen diese Bedingung aber __nicht__! \n",
    "\n",
    "Um dieses Problem zu lösen kann neben dem Eingabe-Qubit $|x\\rangle$ ein Hilfs-Qubit $|h\\rangle$ betrachtet werden. Wird jede Operation durch eine Funktion $f:\\{0, 1\\}\\to\\{0, 1\\}, x\\mapsto f(x)$ beschrieben, so lässt sich für $x, h \\in \\{0, 1\\}$ in einem Quantenschaltkreis die Operation\n",
    "$$U_f|x\\rangle |h\\rangle = |x\\rangle |h\\oplus f(x)\\rangle$$\n",
    "definieren."
   ]
  },
  {
   "cell_type": "markdown",
   "id": "3636e68b",
   "metadata": {},
   "source": [
    "__Fragen__:\n",
    " * Warum handelt es sich bei $U_f$ um eine umkehrbare Operation? <br>\n",
    "  _Tipp_: Was passiert, wenn $U_f$ zweimal hintereinander angewandt wird?\n",
    " *  __Bonus__: Warum ist $U_f$ unitär?<br>\n",
    " * Wie viele Anfragen braucht ein klassischer Computer um mit einem Hilfsbit zwischen einer balancierten und konstanten Funktion zu unterscheiden?"
   ]
  },
  {
   "cell_type": "markdown",
   "id": "10cf07d3",
   "metadata": {},
   "source": [
    "__Antworten__:\n",
    " * Da $U_fU_f|x\\rangle|h\\rangle = U_f|x\\rangle |h\\oplus f(x)\\rangle = |x\\rangle |h\\oplus f(x)\\oplus f(x)\\rangle$ und $f(x)\\oplus f(x) = 0$ gilt, zeigt sich, dass $U_fU_f|x\\rangle |h\\rangle = |x\\rangle |h\\rangle$ ist.\n",
    " * Der Zustand $U_f|x\\rangle|h\\rangle=|x\\rangle|h\\oplus f(x)\\rangle$ kommt aus der Menge $\\{|00\\rangle, |01\\rangle, |10\\rangle, |11\\rangle\\}$ und hat damit den Betrag Eins. Eine Unitäre Matrix ist Längenerhaltend. Da die Länge der Basiselemente erhalten bleibt, bleibt auch die Länge jedes Zustandsvektors erhalten.\n",
    " *Selbst mit einem Hilfsbit braucht ein klassischer Computer noch zwei Anfragen: Bspw. kann die Kombination aus Eingabe $x = 1, h = 1$ und Ausgabe $x' = 1, h' = 0$ betrachtet werden. Diese können durch die Identität aber auch durch konstant 1 verursacht worden sein. Somit sorgt das Einführen des Hilfsbit alleine _nicht_ für eine effizientere Behandlung des Problems."
   ]
  },
  {
   "cell_type": "markdown",
   "id": "ead8130b",
   "metadata": {},
   "source": [
    "### Darstellen der Vier Operationen\n",
    "Die Operation $U_f$ für die vier oben genannten Ein-Bit-Operationen lassen sich alle durch die Gatter $X$, $I$ und das CNOT-Gatter $C_X$ darstellen. (Zur Erinnerung: Das CNOT-Gatter wird durch ``cx(<qubit0>, <qubit1>)`` aufgerufen und verändert nur ``<qubit1>``.) \n",
    "\n",
    "__Aufgabe__: Überlege Dir, wie das gehen könnte und implimentiere sie in das Code-Gerüst."
   ]
  },
  {
   "cell_type": "code",
   "execution_count": null,
   "id": "d23513dc",
   "metadata": {},
   "outputs": [],
   "source": [
    "# Eine Python-Funktion, die Uf beschreibt \n",
    "# Circuit ist ein Schaltkreis mit 2 Qubits\n",
    "# Dabei ist Bit 0 das Hilfsbit und Bit 1 das Bit x\n",
    "def BlackBox(Circuit, functionname = \"NULL\"):\n",
    "    Circuit.barrier()\n",
    "    if functionname == \"NULL\": \n",
    "        # Beispielhafte Implimentierung von Uf für f(x)=0\n",
    "        Circuit.id(0) \n",
    "    elif functionname == \"EINS\":\n",
    "        # Füge hier die Operation(en) für Uf im Fall f(x) = 1 ein\n",
    "        Circuit.x(0)\n",
    "    elif functionname == \"ID\":\n",
    "        # Füge hier die Operation(en) für Uf im Fall f(x) = x ein\n",
    "        Circuit.cx(1, 0)\n",
    "    elif functionname == \"X\":\n",
    "        # Füge hier die Operation(en) für Uf im Fall f(x) = 1+x ein\n",
    "        Circuit.cx(1, 0)\n",
    "        Circuit.x(0)\n",
    "    else:\n",
    "        print(\"Da ist etwas schief gelaufen\")\n",
    "    Circuit.barrier()\n",
    "\n",
    "# Hier werden die beiden Qubits als eigene Quantenregister erstellt, um sie \n",
    "# bennenen zu können\n",
    "Hilfsbit = QuantumRegister(1, name = 'h')\n",
    "Inputbit = QuantumRegister(1, name = 'x')\n",
    "\n",
    "# Sie können mit QuantumCircuit zu einem Schaltkreis zusammengefasst werden\n",
    "circuit = QuantumCircuit(Hilfsbit, Inputbit)\n",
    "\n",
    "# Nun werden die Schaltkreise für jede mögliche Funktion f(x) angezeigt\n",
    "\n",
    "# f(x) = 0\n",
    "BlackBox(circuit, \"NULL\")\n",
    "\n",
    "# f(x) = 1\n",
    "BlackBox(circuit, \"EINS\")\n",
    "\n",
    "# f(x) = x\n",
    "BlackBox(circuit, \"ID\")\n",
    "\n",
    "# f(x) = 1+x\n",
    "BlackBox(circuit, \"X\")\n",
    "\n",
    "# Schlussendlich wird der Schaltkreis gezeichnet\n",
    "circuit.draw(output = 'mpl')    "
   ]
  },
  {
   "cell_type": "markdown",
   "id": "fd25c07b",
   "metadata": {},
   "source": [
    "Um die Umsetzung der Funktion $U_f$ zu überprüfen, kann folgender Code verwendet werden.\n",
    " * Zuerst wird dier Funktion ``SETUP`` definiert, die einen Schaltkreis und einen Anfangszustand zweier Qubits entgegennimmt. Sie versetzt die Qubits 0 und 1 des übergebenen Quantenschaltkreises in den übergebenenn Anfangszustand \n",
    " * Die zweite Zelle erstellt einen Quantenschaltkreis mit zwei Qubits. Durch das variieren des Arguments von ``SETUP`` können verschiedenen Anfangszustände durchprobiert werden. Ebenso kann die obige Funktion ``BlackBox`` mit den verschiedenen Spezifikatoren für $f(x)$ aufgerufen werden. Durch die anschließende Simulation lässt sich prüfen, ob sich die richtigen Zustände ergeben"
   ]
  },
  {
   "cell_type": "code",
   "execution_count": null,
   "id": "20024f7f",
   "metadata": {},
   "outputs": [],
   "source": [
    "def SETUP(Circuit, inputstate = \"00\"):\n",
    "    Circuit.reset(range(2))  # Resete die beiden Bits\n",
    "    if inputstate == \"00\":  # Die Bits sind schon resetet\n",
    "        return\n",
    "    elif inputstate == \"01\": # Bit 0 muss umgedreht werden\n",
    "        Circuit.x(0)\n",
    "    elif inputstate == \"10\": # Bit 1 muss umgedreht werden\n",
    "        Circuit.x(1)\n",
    "    elif inputstate == \"11\": # Beide Bits müssen umgedreht werden\n",
    "        Circuit.x(range(2))\n",
    "    else:\n",
    "        print(\"Da ist wohl etwas in SETUP schief gelaufen\")"
   ]
  },
  {
   "cell_type": "code",
   "execution_count": null,
   "id": "561bccb3",
   "metadata": {},
   "outputs": [],
   "source": [
    "# Quantenschaltkreis mit zwei Qubits und zwei klassischen Bits\n",
    "qc = QuantumCircuit(2, 2)\n",
    "\n",
    "# Einstellen des Anfangszustands\n",
    "SETUP(qc, \"00\")\n",
    "\n",
    "# Anwenden der oben definierten Funktionen\n",
    "BlackBox(qc, \"NULL\")\n",
    "\n",
    "# Messen der Qubits und schreiben in die klassischen Bits\n",
    "qc.measure(range(2), range(2))\n",
    "\n",
    "# Simuulieren des Schaltkreises\n",
    "job = execute(qc, simulator, shots = 1000)\n",
    "results = job.result()\n",
    "plot_histogram(results.get_counts())"
   ]
  },
  {
   "cell_type": "markdown",
   "id": "47d15e05",
   "metadata": {},
   "source": [
    "### Der Algorithmus von Deutsch\n",
    "Betrachte den Quantenschaltkreis, der durch den folgenden Code erzeugt erzeugt wird."
   ]
  },
  {
   "cell_type": "code",
   "execution_count": null,
   "id": "362fbb90",
   "metadata": {},
   "outputs": [],
   "source": [
    "# Hier werden die beiden Qubits als eigene Quantenregister erstellt, um sie \n",
    "# bennenen zu können\n",
    "Hilfsbit = QuantumRegister(1, name = 'h')\n",
    "Inputbit = QuantumRegister(1, name = 'x')\n",
    "\n",
    "# Ebenso kännen klassische Bits erstellt werden\n",
    "KlassischeBits = ClassicalRegister(1, name = 'c')\n",
    "\n",
    "# Alle Register werden zu eimem Quantenschaltkreis zusammengefasst\n",
    "circuit = QuantumCircuit(Hilfsbit, Inputbit, KlassischeBits)\n",
    "\n",
    "# Alle Qubits werden auf Null initialisiert\n",
    "circuit.reset(range(2))\n",
    "\n",
    "# Das Hilfsbit wird in den Zustand |1> versetzt\n",
    "circuit.x(0)\n",
    "\n",
    "# Die Barriere sorgt für Übersichtlichkeit\n",
    "circuit.barrier()\n",
    "\n",
    "# Auf beide Qubits wird die Hadamard-Transformation angewandt\n",
    "circuit.h(range(2))\n",
    "\n",
    "# Der Schaltkreis wird gezeichnet\n",
    "circuit.draw(output = 'mpl', plot_barriers = False)"
   ]
  },
  {
   "cell_type": "markdown",
   "id": "c7589fbc",
   "metadata": {},
   "source": [
    "__Aufgabe__: Berechne in welchem Zustand sich das Quantenregister $|R_2\\rangle = |x\\rangle|h\\rangle$ nach der Ausführung dieses Schaltkreieses befindet."
   ]
  },
  {
   "cell_type": "markdown",
   "id": "1cb9192b",
   "metadata": {},
   "source": [
    "__Lösung__: Zu Anfang befindet sich das Register in dem Zustand $|R_2\\rangle = |0\\rangle|0\\rangle$. Danach wird das Hilfsbit umgedreht, so dass der neue Zustand $|R_2'\\rangle=|0\\rangle|1\\rangle$ ist. Anschließden wird auf beide Zustände die Hadamard-Matrix angewandt. Die Hadamard-Matrix hat auf die Zustände die Wirkung\n",
    "$$H|0\\rangle=|+\\rangle=\\frac{1}{\\sqrt{2}}(|0\\rangle+|1\\rangle)$$\n",
    "und \n",
    "$$H|1\\rangle=|-\\rangle=\\frac{1}{\\sqrt{2}}(|0\\rangle-|1\\rangle)$$\n",
    "Damit befindet sich das Register am Ende im Zustand\n",
    "$$|R_2''\\rangle=|+\\rangle|-\\rangle=\\frac{1}{2}(|00\\rangle-|01\\rangle+|10\\rangle-|11\\rangle)\\\\\n",
    "=\\frac{1}{2}\\bigg(|0\\rangle(|0\\rangle-|1\\rangle)+|1\\rangle(|0\\rangle-|1\\rangle)\\bigg)$$"
   ]
  },
  {
   "cell_type": "markdown",
   "id": "b9a711d3",
   "metadata": {},
   "source": [
    "__Aufgabe__: In welchem Zustand befindet sich das Register $|x\\rangle|h\\rangle$ wenn nun zusätzlich $U_f$ angewandt wird?<br>\n",
    "_Hinweis_: Warum ist \n",
    "$$|0\\oplus f(x)\\rangle-|1\\oplus f(x)\\rangle=(-1)^{f(x)}(|0\\rangle-|1\\rangle)$$\n",
    "für ein beliebiges $x\\in\\{0, 1\\}$ gültig?"
   ]
  },
  {
   "cell_type": "markdown",
   "id": "1a2a8697",
   "metadata": {},
   "source": [
    "__Lösung__: Durch das Anwenden von $U_f$ entsteht der Zustand\n",
    "$$|R_2'''\\rangle= \\frac{1}{2}\\bigg(|0\\rangle(|0\\oplus f(0)\\rangle-|1\\oplus f(0)\\rangle)+|1\\rangle(|0+\\oplus f(1)\\rangle-|1\\oplus f(1)\\rangle)\\bigg)$$\n",
    "Für die Kombination \n",
    "$$|0\\oplus f(x)\\rangle-|1\\oplus f(x)\\rangle$$\n",
    "kann aber der Ausdruck\n",
    "$$(-1)^{f(x)}(|0\\rangle-|1\\rangle)$$\n",
    "gefunden werden. Denn wenn $f(x)=0$ ist, so ist der Ausdruck gerade $|0\\rangle-|1\\rangle$. Ist hingegen $f(x)=1$, so ist der Ausdruck $|1\\rangle-|0\\rangle=(-1)\\cdot(|0\\rangle-|1\\rangle)$. Da $(-1)^0=1$ ist, kann in beiden Fällen der besagte Ausdruck geschrieben werden.\n",
    "Dmit kann der Zustand auf \n",
    "$$|R_2'''\\rangle = \\frac{1}{2}\\bigg(|0\\rangle(-1)^{f(0)}(|0\\rangle-|1\\rangle)+(-1)^{f(1)}(|0\\rangle-|1\\rangle)\\bigg)\\\\\n",
    "=\\frac{1}{\\sqrt{2}}\\bigg((-1)^{f(0)}|0\\rangle+(-1)^{f(1)}|1\\rangle\\bigg)|-\\rangle$$\n",
    "umgeformt werden. Da $(-1)^{f(x)+f(x)}=(-1)^{f(x)-f(x)}=(-1)^{f(x)\\oplus f(x)}=1$ gilt und globale Phasenfaktoren den gleichen Zustand beschreiben, kann dieser Zustand auch als\n",
    "$$|R_2'''\\rangle=\\frac{(-1)^{f(0)}}{\\sqrt{2}}\\bigg(|0\\rangle+(-1)^{f(0)\\oplus f(1)}|1\\rangle\\bigg)|-\\rangle$$\n",
    "geschrieben werden. Damit wurde jetzt die Auswirkung der Funktion $f(x)$ in ein relatives Vorzeichen verlagert. Relative Vorzeichen (bzw. Phasenunterschiede) in Quantenzuständen sind immer für Interferrenzeffekte verantwortlich. Und solche Interferrenzeffekte sind messbar."
   ]
  },
  {
   "cell_type": "markdown",
   "id": "41ff2ff3",
   "metadata": {},
   "source": [
    "__Aufgabe__: Was für eine Operation kann nun auf das Bit $|x\\rangle$ angewendet werden, um bei einer anschließenden Messung dieses Bits zu unterscheiden, ob es sich um eine konstante oder balancierte Funktion handelt?"
   ]
  },
  {
   "cell_type": "markdown",
   "id": "63d851a2",
   "metadata": {},
   "source": [
    "__Lösung__: Wird auf das Bit $|x\\rangle$ im obigen Zustand\n",
    "$$|\\psi\\rangle=\\frac{(-1)^{f(0)}}{\\sqrt{2}}(|0\\rangle+(-1)^{f(0)\\oplus f(1)}|1\\rangle)$$\n",
    "die Hadamard-Transformation $H$ angewendet, so wird sich der Zustand\n",
    "$$H|\\psi\\rangle=\\frac{(-1)^{f(0)}}{\\sqrt{2}}\\bigg(|+\\rangle+(-1)^{f(0)\\oplus f(1)}|-\\rangle\\bigg)\\\\\n",
    "=\\frac{(-1)^{f(0)}}{2}\\bigg(|0\\rangle+|1\\rangle+(-1)^{f(0)\\oplus f(1)}(|0\\rangle-|1\\rangle)\\bigg)\\\\\n",
    "=\\frac{(-1)^{f(0)}}{2}\\bigg(|0\\rangle\\left(1+(-1)^{f(0)\\oplus f(1)}\\right)+|1\\rangle\\left(1-(-1)^{f(0)\\oplus f(1)}\\right)\\bigg)$$\n",
    "ergeben.\n",
    "* Ist $f(x)$ eine konstante Funktion $f(0)=f(1)$ bzw. $f(0)\\oplus f(1)=0$, so befindet sich das Bit $|x\\rangle$ am Ende der Berechnung im Zustand $|0\\rangle$. \n",
    "* Ist $f(x)$ hingegen balanciert, so dass $f(0)=1\\oplus f(1)$ bzw. $f(0)\\oplus f(1)=1$ gilt, so befindet sich das Bit $|x\\rangle$ am Ende der Berechnung im Zustand $|1\\rangle$."
   ]
  },
  {
   "cell_type": "markdown",
   "id": "4ebd5876",
   "metadata": {},
   "source": [
    "### Implementierung des Algorithmus"
   ]
  },
  {
   "cell_type": "markdown",
   "id": "cc89da1f",
   "metadata": {},
   "source": [
    "__Aufgabe__: Implementiere den Algorithmus in dem folgenden Code-Gerüst."
   ]
  },
  {
   "cell_type": "code",
   "execution_count": null,
   "id": "2795857e",
   "metadata": {},
   "outputs": [],
   "source": [
    "# Hier werden die beiden Qubits als eigene Quantenregister erstellt, um sie \n",
    "# bennenen zu können\n",
    "Hilfsbit = QuantumRegister(1, name = 'h')\n",
    "Inputbit = QuantumRegister(1, name = 'x')\n",
    "\n",
    "# Ebenso kännen klassische Bits erstellt werden\n",
    "KlassischeBits = ClassicalRegister(1, name = 'c')\n",
    "\n",
    "# Alle Register werden zu eimem Quantenschaltkreis zusammengefasst\n",
    "circuit = QuantumCircuit(Hilfsbit, Inputbit, KlassischeBits)\n",
    "\n",
    "# Alle Qubits werden auf Null initialisiert\n",
    "circuit.reset(range(2))\n",
    "\n",
    "# Das Hilfsbit wird in den Zustand |1> versetzt\n",
    "circuit.x(0)\n",
    "\n",
    "# Die Barriere sorgt für Übersichtlichkeit\n",
    "circuit.barrier()\n",
    "\n",
    "# Auf beide Qubits wird die Hadamard-Transformation angewandt\n",
    "circuit.h(range(2))\n",
    "\n",
    "# Füge hier die fehlenden Operationen ein, um zwischen balancierten \n",
    "# und konstanten Funktionen zu unterscheiden\n",
    "\n",
    "# Zunächst muss die Funktion angewandt werden\n",
    "BlackBox(circuit, \"X\")\n",
    "\n",
    "# Es muss die Hadamard-Transformation auf das Inputbit (1) angewandt werden\n",
    "circuit.h(1)\n",
    "\n",
    "# Es muss das Inputbit gemessen werden\n",
    "circuit.measure(1, 0)\n",
    "\n",
    "# Der Schaltkreis wird gezeichnet\n",
    "circuit.draw(output = 'mpl')"
   ]
  },
  {
   "cell_type": "markdown",
   "id": "3b492e49",
   "metadata": {},
   "source": [
    "Mit der folgenden Code-Zelle, kannst Du ausprobieren, ob der Schaltkreis seine Aufgabe auch wirklich erfüllt."
   ]
  },
  {
   "cell_type": "code",
   "execution_count": null,
   "id": "40a34c9b",
   "metadata": {
    "scrolled": false
   },
   "outputs": [],
   "source": [
    "job = execute(circuit, simulator, shots = 1000)\n",
    "results = job.result()\n",
    "plot_histogram(results.get_counts())"
   ]
  },
  {
   "cell_type": "markdown",
   "id": "efa3b8c7",
   "metadata": {},
   "source": [
    "## Das Problem von Deutsch-Josza\n",
    "Nun kann das Problem von Deutsch verallgemeinert werden. Die Idee ist, dass eine Funktion $f$ betrachtet wird, die $n$ Bits entgegen nimmt und diese entweder auf $0$ oder $1$ abbildet. Sie kann also als $f:\\{0, 1\\}^n\\to\\{0, 1\\}, x\\mapsto f(x)$ geschrieben werden. Auch hier geht es wieder um die Frage, wie sich erkennen lässt, ob die Funktion nur konstante Funktionswerte annimmt oder ob sich gleich oft das Ergebnis $0$ sowie $1$ ergibt. "
   ]
  },
  {
   "cell_type": "markdown",
   "id": "c0f722e4",
   "metadata": {},
   "source": [
    "__Aufgabe__: Wie viele Zugriffe braucht ein klassischer Computer im schlechteseten Fall, um zwischen einer konstanten und einer balancierten Funktion unterscheiden zu können?"
   ]
  },
  {
   "cell_type": "markdown",
   "id": "3426814e",
   "metadata": {},
   "source": [
    "__Lösung__: Es gibt $2^n$ mögliche Eingaben. Das bedeutet, bei einer balancierten Funktion werden je $2^{n-1}$ Eingaben auf $0$ bzw. auf $1$ abgebildet. Im schlechtesten Fall werden gerade die Eingaben ausprobiert, die alle den selben Wert ergeben. Daher müssen im schlechtesten Fall $2^{n-1}+1$ Eingaben geprüft werden. Ergibt sich bei der letzten Eingabe der gleiche Wert, wie zuvor, so ist die Funktion konstant. Ergibt sich ein anderer Wert, so ist die Funktion balanciert."
   ]
  },
  {
   "cell_type": "markdown",
   "id": "349f6451",
   "metadata": {},
   "source": [
    "### Umkehrbare Operationen und Darstellungen dieser"
   ]
  },
  {
   "cell_type": "markdown",
   "id": "ce9ebd20",
   "metadata": {},
   "source": [
    "Genau wie bei dem Problem von Deutsch, muss auch hier eine umkehrbare Variante der Funktion verwendet werden, die durch die Transformation \n",
    "$$U_f|X\\rangle|h\\rangle=|X\\rangle|h\\oplus f(X)\\rangle$$\n",
    "eingeführt werden, wobei $X\\in\\{0, 1\\}^n$."
   ]
  },
  {
   "cell_type": "markdown",
   "id": "075e7360",
   "metadata": {},
   "source": [
    "Wird das Register als $|X\\rangle|h\\rangle$ geschrieben, so ist der Vektor des $\\mathbb{C}^{2^{n+1}}$ und durch das Tensorprodukt $|X\\rangle\\otimes|h\\rangle$ dargestelllt, bei dem $|X\\rangle$ aus dem $\\mathbb{C}^{2^n}$ kommt. Das bedeutet, dass der Vektor die Form\n",
    "$$|X\\rangle\\otimes|h\\rangle=\\begin{pmatrix}\n",
    "C_{0\\dots 00}\\\\\n",
    "C_{0\\dots 01}\\\\\n",
    "\\vdots\\\\\n",
    "C_{1\\dots 1}\n",
    "\\end{pmatrix}\\otimes\\begin{pmatrix}\n",
    "\\alpha_h\\\\\n",
    "\\beta_h\n",
    "\\end{pmatrix}=\\begin{pmatrix}\n",
    "C_{0\\dots 00}\\alpha_h\\\\\n",
    "C_{0\\dots 00}\\beta_h\\\\\n",
    "C_{0\\dots 01}\\alpha_h\\\\\n",
    "C_{0\\dots 01}\\beta_h\\\\\n",
    "\\vdots\\\\\n",
    "C_{1\\dots 11}\\alpha_h\\\\\n",
    "C_{1\\dots 11}\\beta_h\n",
    "\\end{pmatrix}\n",
    "$$\n",
    "annimmt. Da bisher klassische Bits angenommen werden ist $C_X, \\alpha_h\\beta_h\\in\\{0, 1\\}$. \n",
    "\n",
    "Dieser Vektor lässt sich in Zweierblöcke aufteilen. Der erste Teil $C_{X}$ beschreibt immer den Wert des Registers $X$ während die letzte Stelle jeweils den Wert von $h$ beschreibt. Das hat den Vorteil, dass sich $U_f$ als eine Matrix bestehend aus Blöcken von $2\\times 2$ Matrizen auf der Diagonale beschreiben lässt, von denen jede $2\\times 2$ Matrix beschreibt, wie sich beim Anwenden der Opartion $U_f$ der Vektorblock \n",
    "$$\n",
    "\\begin{pmatrix}\n",
    "C_X\\alpha_h\\\\\n",
    "C_X\\beta_h\n",
    "\\end{pmatrix}\n",
    "$$\n",
    "ändert."
   ]
  },
  {
   "cell_type": "markdown",
   "id": "04008498",
   "metadata": {},
   "source": [
    "__Aufgabe__: Wie sehen die $2\\times 2$ Matrizen auf der Diagonale aus, wenn $f(X)=0$ bzw. $f(X)=1$ gilt?"
   ]
  },
  {
   "cell_type": "markdown",
   "id": "0b677b9e",
   "metadata": {},
   "source": [
    "__Lösung__: Ist $f(X)=0$, so wird $|h\\rangle$ auf $|h\\oplus f(x)\\rangle=|h\\oplus 0\\rangle=|h\\rangle=I|h\\rangle$ gesetzt. Das bedeutet der Vektor ändert sich nicht und der Matrixblock wird durch $I$ ausgedrückt.<br>\n",
    "Ist nun hingen $f(X)=1$, so wird $|h\\rangle$ auf $|h\\oplus f(x)\\rangle=|h\\oplus 1\\rangle=X|h\\rangle$ gesetzt. Damit entspricht der Zweierblock gerade dem Bitflip $X$."
   ]
  },
  {
   "cell_type": "markdown",
   "id": "2fa7196b",
   "metadata": {},
   "source": [
    "Im Folgenden werden zwei Beispielfunktionen als balanciert und konstant für den späteren Gebrauch implementiert. Es wird dann die Matrix $U_f$ bestimmt und in ein Bauteil für einen Quantenschaltkreis umgewandelt."
   ]
  },
  {
   "cell_type": "code",
   "execution_count": null,
   "id": "d4f47968",
   "metadata": {},
   "outputs": [],
   "source": [
    "# n ist die Anzahl der Qubits im Register X\n",
    "\n",
    "def func_const(x, n):    # Beispiel einer konstanten Funktion\n",
    "    return 1\n",
    "\n",
    "\n",
    "def func_balanced(x, n):    # Beispiel einer balancierten Funktion\n",
    "    if x < 2**(n-1):\n",
    "        return 0    # Die erste Hälfte der Eingabe wird auf Null abgebildet\n",
    "    else:\n",
    "        return 1    # Die zweite Hälfte der Eingabe wird auf Eins abgebildet\n",
    "    \n",
    "\n",
    "def Matrix_U(func, n):    # Implementierung der Matrix Uf\n",
    "    # Erzeuge eine Matrix der richtigen Größe gefüllt mit Nullen\n",
    "    U = [[0 for i in range(2**(n+1))] for k in range(2**(n+1))] \n",
    "    for x in range(2**n):\n",
    "        if func(x, n)==0:\n",
    "            # f(x)=1 also muss auf der Diagonale die Einheitsmatrix liegen\n",
    "            U[2*x][2*x] = 1\n",
    "            U[2*x+1][2*x+1] =1\n",
    "        else:\n",
    "            # f(x)=1 also muss ein Bit-Flip auf der Diagonale liegen\n",
    "            U[2*x][2*x+1] = 1\n",
    "            U[2*x+1][2*x] = 1\n",
    "    # Der Ausgabewert der Funktion ist die Matrix U\n",
    "    return U\n",
    "\n",
    "\n",
    "def Uf_on_QuantumCircuit(Circuit, n, typ = 'balanced'):\n",
    "    if typ == 'balanced':    # Eine balancierte Funktion soll verwendet werden\n",
    "        U = Matrix_U(func_balanced, n)    # Bestimmt die Matrix U der Funktion\n",
    "        Oracle = Operator(U)    # Operator kann Matrizen in Bauteile umwandeln\n",
    "        Circuit.append(Oracle, range(n+1))    # Fügt das Bauteil in den Schaltkreis \n",
    "    elif typ == 'const':    # Eine konstante Funktion soll verwendet werden\n",
    "        U = Matrix_U(func_const, n)    # Bestimmt die Matrix U der Funktion\n",
    "        Oracle = Operator(U)    # Operator kann Matrizen in Bauteile umwandeln\n",
    "        Circuit.append(Oracle, range(n+1))    # Fügt das Bauteil in den Schaltkreis \n",
    "    else:\n",
    "        print(\"Da ist etwas schief gelaufen in Uf_on_QuantumCircuit!\")"
   ]
  },
  {
   "cell_type": "markdown",
   "id": "80224d31",
   "metadata": {},
   "source": [
    "### Implementierung des Algorithmus\n",
    "__Aufgabe__: Überlege Dir, wie der Algorithmus von Deutsch verallgemeinert werden kann, um das Problem von Deutsch-Josza zu lösen. Implementiere den Algorithmus in das folgende Code-Gerüst"
   ]
  },
  {
   "cell_type": "code",
   "execution_count": null,
   "id": "671851b1",
   "metadata": {},
   "outputs": [],
   "source": [
    "# Anzahl der Qubits im Register X\n",
    "n = 2\n",
    "\n",
    "# Erstellen der einzelnen Register\n",
    "X = QuantumRegister(n, name = 'x')\n",
    "H = QuantumRegister(1, name = 'h')\n",
    "# Wie viele klassische Bist werden benötigt\n",
    "n_klassisch = n # \n",
    "C = ClassicalRegister(n_klassisch, name = 'c')\n",
    "\n",
    "# Ertsllen des Quantenschaltkreises\n",
    "# Das Hilfsbit ist hierbei Bit 0\n",
    "circuit = QuantumCircuit(H, X, C)\n",
    "\n",
    "# Verallgemeinere nun den Algorithmus von Deutsch\n",
    "# Initialisiere alle Zustände, das Registe X auf |0...0>, das Hilfsbit auf |1>\n",
    "circuit.reset(range(n+1))\n",
    "circuit.x(0)\n",
    "\n",
    "circuit.barrier()\n",
    "\n",
    "# Die Hadamard-Transformation wird auf alle Qubits angewendet\n",
    "circuit.h(range(n+1))\n",
    "\n",
    "circuit.barrier()\n",
    "\n",
    "# Die Funktion Uf wird angewendet\n",
    "Uf_on_QuantumCircuit(circuit, n, typ = 'const')\n",
    "\n",
    "# Es wird eine Hadamard-Transformation auf das Register X ausgeführt\n",
    "circuit.h(range(1, n+1))\n",
    "\n",
    "circuit.barrier()\n",
    "\n",
    "# Es wird eine Messung des Registers X durchgeführt und \n",
    "# in die klassischen Bits geschrieben\n",
    "circuit.measure(range(1, n+1), range(n))\n",
    "\n",
    "\n",
    "# Zeichne den Quantenschaltkreis\n",
    "circuit.draw(output = 'mpl', plot_barriers = False)"
   ]
  },
  {
   "cell_type": "markdown",
   "id": "3a1006fc",
   "metadata": {},
   "source": [
    "Mit dem folgenden Code wird der Schaltkreis ausgeführt und es kann geprüft werden, ob er die richtigen Ergebnisse liefert."
   ]
  },
  {
   "cell_type": "code",
   "execution_count": null,
   "id": "e788a723",
   "metadata": {
    "scrolled": true
   },
   "outputs": [],
   "source": [
    "job = execute(circuit, simulator, shots = 1000)\n",
    "results = job.result()\n",
    "plot_histogram(results.get_counts())"
   ]
  },
  {
   "cell_type": "markdown",
   "id": "c0a98795",
   "metadata": {},
   "source": [
    "## Erklärung des Algorithmus\n",
    "__Extra-Aufgabe__: Zeige, dass sich bei der Messung der Zustand $|0\\dots 0\\rangle$ nur dann einstellen kann, wenn es sich um eine konstante Funktion handelt.<br>\n",
    "_Tipp_: Hier ist die Formel zur Anwendung der Hadamard-Transformation $H_n$ auf einen beliebigen Zustand aus unserem [Wikiversity-Artikel zu Registern](https://de.wikiversity.org/wiki/Kurs:Quantencomputing/Register) hilfreich."
   ]
  },
  {
   "cell_type": "markdown",
   "id": "335624c5",
   "metadata": {},
   "source": [
    "__Lösung__:\n",
    "Nach dem Anwenden der Hadamard-Transformationen befindet sich das System im Zustand\n",
    "$$|X\\rangle|h\\rangle = \\left(\\frac{1}{\\sqrt{2^n}}\\sum_{Z\\in\\{0, 1\\}^n}|Z\\rangle\\right)\\otimes |-\\rangle$$\n",
    "Wie auch im Algorithmus von Deutsch ergibt sich nach dem Anwenden von $U_f$ für jedes $Z$ der Ausdruck\n",
    "$$\\frac{1}{\\sqrt{2}}\\left(|Z\\rangle|0\\oplus f(Z)\\rangle-|Z\\rangle|1\\oplus f(Z)\\rangle\\right)=\\frac{(-1)^{f(z)}}{\\sqrt{2}}|Z\\rangle(|0\\rangle-|1\\rangle)\\\\\n",
    "=(-1)^{f(Z)}|Z\\rangle|-\\rangle$$\n",
    "und somit ergibt sich nach der Anwendung von $U_f$ der Zustand\n",
    "$$|X\\rangle|h\\rangle = \\left(\\frac{1}{\\sqrt{2^n}}\\sum_{Z\\in\\{0, 1\\}^n}(-1)^{f(Z)}|Z\\rangle\\right)\\otimes |-\\rangle$$\n",
    "Am Zustand $|h\\rangle$ wird nichts mehr verändert, weshalb er nicht mehr betrachtet werden muss. Nach der Anwendung der Hadamard-Matrizen auf $|X\\rangle$ kann der Zustand\n",
    "$$H_n|X\\rangle = H_n\\frac{1}{\\sqrt{2^n}}\\sum_{Z\\in\\{0, 1\\}^n}(-1)^{f(Z)}|Z\\rangle\\\\\n",
    "=\\frac{1}{2^n}\\sum_{W\\in\\{0, 1\\}^n}\\sum_{Z\\in\\{0, 1\\}^n}(-1)^{f(Z)}(-1)^{W\\cdot Z}|W\\rangle$$\n",
    "gefunden werden.\n",
    "Soll der Zustand $|0\\dots 0\\rangle$ gemessen werden, muss die Projektion auf diesen betrachtet werden. Damit kann\n",
    "$$\\langle 0\\dots 0|X\\rangle = \\frac{1}{2^n}\\sum_{Z\\in\\{0, 1\\}^n}(-1)^{f(Z)}$$\n",
    "gefunden werden, das $W$ auf $0\\dots 0$ gesetzt werden muss. Ist $f(Z)$ konstant, so wird $2^n$ mal der gleiche Term aus $\\{-1, 1\\}$ aufaddiert. Das bedeutet die Projektion ergibt $\\pm 1$ und das Betragsquadrat davon ist $1$. Also wird bei einer konstanten Funktion mit $100\\%$-ger Wahrscheinlichkeit der Zustand $|0\\dots 0\\rangle$ gemssen. Ist die Funktion hingegen balanciert, so wird $2^{n-1}$ mal der Wert $+1$ und $2^{n-1}$ mal der Wert $-1$ addiert. Insgesamt wird die Projektion also Null und die Wahrscheinlichkeit den Zustand $|0\\dots 0\\rangle$ zu messen beträgt Null. Wichtig ist hierbei, dass der Zustand der dann gemessen wird, von der genauen Form von $f$ abhängig ist."
   ]
  },
  {
   "cell_type": "markdown",
   "id": "bfdb5a92",
   "metadata": {},
   "source": [
    "## Der Algorithmus von Bernstein-Vazirani\n",
    "Eine weitere Anwendung für den Schaltkreis, der das Problem von Deutsch-Josza löst, besteht im Problem von Bernstein-Vazirani. Dabei wird eine lineare Funktion\n",
    "$$f: \\{0, 1\\}^n\\to \\{0, 1\\}, x\\mapsto f(x)=a\\cdot x= \\left(\\sum_{k=0}^{n-1}a_k\\cdot x_k\\right)\\mathrm{\\, mod\\, }2$$\n",
    "betrachtet. Darin ist $a\\in\\{0, 1\\}^n$. Im Folgenden soll untersucht werden, was der Algorithmus von Deutsch-Josza bei solch einer Funktion für ein Ergebnis liefert."
   ]
  },
  {
   "cell_type": "markdown",
   "id": "56ba5168",
   "metadata": {},
   "source": [
    "### Bestimmen der Matrix $U_f$\n",
    "Um den Algorithmus von Deutsch-Josza anwenden zu können, muss erst $U_f$ für die obige Funktion implementiert werden. \n",
    "\n",
    "__Aufgabe__: Vervollständige das untenstehende Code-Gerüst, das $U_f$ implementiert."
   ]
  },
  {
   "cell_type": "code",
   "execution_count": null,
   "id": "0f6728ba",
   "metadata": {},
   "outputs": [],
   "source": [
    "# Da x als Dezimalzahl vorliegt, muss es erstmal in eine Binärzahl umgewandelt werden\n",
    "def dec_to_bin(x, n):\n",
    "    x=int(x)\n",
    "    X = np.zeros(n, dtype = int)    # Eine Liste (numpy-Array) mit n Nullen. Sie stellt die Binärdarstellung dar, dtype = int sorgt dafür, dass nur ganze Zahlen (0, 1) in der Liste stehen\n",
    "    for k in range(n):\n",
    "        X[n-k-1] = x%2   # % ist in Python Modulo, also x mod 2 wird an die aktuelle Stelle geschrieben\n",
    "        x = x/2    # / ist in Python für Integer Division ohne Rest, das heißt, das \"Komma\" wird ein Stelle weiter geschoben\n",
    "    return X    # Die Liste mit der Binärdarstellung von X wird zurückgegeben\n",
    "     \n",
    "    \n",
    "def func_linear(x, n, a):\n",
    "    # x ist eine Zahl zwischen 0 und 2^n-1\n",
    "    # n ist die Anzahl der Qubits im Register X\n",
    "    # a ist der Vektor a, der als Numpy Array der Länge n vorliegt (Binärdarstellung)\n",
    "    \n",
    "    # Welche Operationen müssen ausgeführt werden, damit das \n",
    "    # Ergebnis f(x)=ax von oben ausgegeben wird?\n",
    "    # Tipp: Werden zwei Numpy Arrays multipliziert passiert \n",
    "    #       das für jeden Eintrag einzeln\n",
    "    #       Um alle Einträge eines Numpy Arrays aufzusummieren \n",
    "    #       gibt es den Befehl np.sum(<array>)\n",
    "    \n",
    "    X = dec_to_bin(x, n)\n",
    "    return np.sum(X*a)%2\n",
    "\n",
    "\n",
    "def Uf_linear(Circuit, n, a):\n",
    "    # Erstelle eine Matrix der richtigen Größe voller Nullen\n",
    "    U = [[0 for i in range(2**(n+1))] for k in range(2**(n+1))] \n",
    "    for x in range(2**n):\n",
    "        if func_linear(x, n, a)==0:\n",
    "            # f(x)=1 also muss auf der Diagonale die Einheitsmatrix liegen\n",
    "            U[2*x][2*x] = 1\n",
    "            U[2*x+1][2*x+1] =1\n",
    "        else:\n",
    "            # f(x)=1 also muss ein Bit-Flip auf der Diagonale liegen\n",
    "            U[2*x][2*x+1] = 1\n",
    "            U[2*x+1][2*x] = 1\n",
    "    Oracle = Operator(U)    # Operator kann Matrizen in Bauteile umwandeln\n",
    "    Circuit.append(Oracle, range(n+1)) # Fügt das Bauteil in den Schaltkreis ein\n",
    "    \n",
    "\n",
    "# Teste die Funktion:\n",
    "# Mit den Argumenten 4, 3, np.array([1, 1, 1]) sollte sich 1 ergeben\n",
    "# Mit den Argumenten 3, 3, np.array([1, 1, 1]) sollte sich 0 ergeben\n",
    "func_linear(3 , 3, np.array([1, 1, 1]))"
   ]
  },
  {
   "cell_type": "markdown",
   "id": "6a6a06c0",
   "metadata": {},
   "source": [
    "### Implementieren des Schaltkreises\n",
    "__Aufgabe__: Implementiere erneut den Schaltkreis vom Problem von Deutsch-Josza, diesmal mit dem Bauteil für die lineare Funktion in dem nachfolgenden Code-Gerüst."
   ]
  },
  {
   "cell_type": "code",
   "execution_count": null,
   "id": "591b621b",
   "metadata": {
    "scrolled": true
   },
   "outputs": [],
   "source": [
    "# Anzahl der Qubits im Register X\n",
    "n = 5\n",
    "\n",
    "# Ergänze das Code-Gerüst, um das Problem von Bernstein-Vazirani zu lösen\n",
    "# Gib den Vektor a dabei durch np.array([a(n-1) , ..., a3, a2, a1, a0]) an.\n",
    "\n",
    "# Erstellen der einzelnen Register\n",
    "X = QuantumRegister(n, name = 'x')\n",
    "H = QuantumRegister(1, name = 'h')\n",
    "C = ClassicalRegister(n, name = 'c')\n",
    "\n",
    "# Ertsllen des Quantenschaltkreises\n",
    "# Das Hilfsbit ist hierbei Bit 0\n",
    "circuit = QuantumCircuit(H, X, C)\n",
    "\n",
    "# Initialisiere alle Zustände, das Registe X auf |0...0>, das Hilfsbit auf |1>\n",
    "circuit.reset(range(n+1))\n",
    "circuit.x(0)\n",
    "\n",
    "circuit.barrier()\n",
    "\n",
    "# Die Hadamard-Transformation wird auf alle Qubits angewendet\n",
    "circuit.h(range(n+1))\n",
    "\n",
    "circuit.barrier()\n",
    "\n",
    "# Die Funktion Uf linear wird angewendet\n",
    "Uf_linear(circuit, n, np.array([1, 0, 1, 0, 1]))\n",
    "\n",
    "# Es wird eine Hadamard-Transformation auf das Register X ausgeführt\n",
    "circuit.h(range(1, n+1))\n",
    "\n",
    "circuit.barrier()\n",
    "\n",
    "# Es wird eine Messung des Registers X durchgeführt und \n",
    "# in die klassischen Bits geschrieben\n",
    "circuit.measure(range(1, n+1), range(n))\n",
    "\n",
    "\n",
    "# Zeichne den Quantenschaltkreis\n",
    "circuit.draw(output = 'mpl', plot_barriers = False)"
   ]
  },
  {
   "cell_type": "markdown",
   "id": "006d1ff5",
   "metadata": {},
   "source": [
    "### Erklärung des Algorithmus"
   ]
  },
  {
   "cell_type": "markdown",
   "id": "ee91c4c7",
   "metadata": {},
   "source": [
    "__Aufgabe__: Wie wahrscheinlich ist es am Ende den Zustand $|X\\rangle = |a\\rangle$ zu messen?"
   ]
  },
  {
   "cell_type": "markdown",
   "id": "4cea87fa",
   "metadata": {},
   "source": [
    "__Lösung__: Bereits bei der Erklärung zum Algorithmus von Deutsch-Josza hat sich gezeigt, dass sich das Quantenregister $|X\\rangle$ vor der Messung im Zustand\n",
    "$$|X\\rangle = \\frac{1}{2^n}\\sum_{W\\in\\{0, 1\\}^n}\\sum_{Z\\in\\{0, 1\\}^n}(-1)^{f(Z)}(-1)^{W\\cdot Z}|W\\rangle$$\n",
    "befindet. Soll nun der Zustand $|a\\rangle$ gemessen werden, so bleibt in der Summe nur der Beitrag mit $W=a$ übrig, so dass sich\n",
    "$$\\langle a|X\\rangle=\\frac{1}{2^n}\\sum_{Z\\in\\{0, 1\\}^n}(-1)^{f(Z)}(-1)^{a\\cdot Z}$$\n",
    "ergibt. Da nun aber $f(Z)=a\\cdot Z$ ist, taucht in der Summe insgesamt der Faktor \n",
    "$$(-1)^{f(Z)}(-1)^{f(Z)}=(-1)^{f(Z)\\oplus f(Z)}=(-1)^0 = 1$$\n",
    "auf. Es wird also $2^n$ mal über 1 summiert und somit ist die Projektion, wie auch die Wahrscheinlichkeit gerade 1. Mit anderen Worten: Die Messung wird als Ergebnis immer den Vektor $a$ ergeben und das mit nur __einem einzigen__ Aufruf des Bauteils für die Funktion $f(x)$."
   ]
  },
  {
   "cell_type": "markdown",
   "id": "b11123c5",
   "metadata": {},
   "source": [
    "### Testen des Algorithmus"
   ]
  },
  {
   "cell_type": "markdown",
   "id": "ea2cd64d",
   "metadata": {},
   "source": [
    "Mit dem folgenden Code kannst Du ausprobieren, was sich bei dem Ausführen des Algorithmus ergibt."
   ]
  },
  {
   "cell_type": "code",
   "execution_count": null,
   "id": "e33edb99",
   "metadata": {},
   "outputs": [],
   "source": [
    "job = execute(circuit, simulator, shots = 1000)\n",
    "results = job.result()\n",
    "plot_histogram(results.get_counts())"
   ]
  }
 ],
 "metadata": {
  "kernelspec": {
   "display_name": "Python 3 (ipykernel)",
   "language": "python",
   "name": "python3"
  },
  "language_info": {
   "codemirror_mode": {
    "name": "ipython",
    "version": 3
   },
   "file_extension": ".py",
   "mimetype": "text/x-python",
   "name": "python",
   "nbconvert_exporter": "python",
   "pygments_lexer": "ipython3",
   "version": "3.8.1"
  }
 },
 "nbformat": 4,
 "nbformat_minor": 5
}
