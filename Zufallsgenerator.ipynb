{
 "cells": [
  {
   "cell_type": "markdown",
   "id": "1509388e",
   "metadata": {},
   "source": [
    "# Quantenzufallsgenerator\n",
    "In diesem Jupyter Notebook soll ein Zufallsbit mit Hilfe eines Quantenschaltkreises konstruiert werden. Zunächst soll sich dabei eine gleiche Wahrscheinlichkeit für die Zustände $|0\\rangle$ und $|1\\rangle$ ergeben. In den Variationen des Zufallsgenerators sollen einmal gleiche Wahrscheinlichkeiten für die Basiszustände eines Registeres mit $n$ Qubits auftreten und einmal eine beliebige Wahrscheinlichkeit für den Zustand $|0\\rangle$ eingestellt werden können."
   ]
  },
  {
   "cell_type": "markdown",
   "id": "18813146",
   "metadata": {},
   "source": [
    "## Vorbereitungen\n",
    "Wie am Anfang eines jeden Notebook müssen die nötigen Pakete geladen werden. Siehe hierzu auch in dem Jupyter Notebook [\"Einstieg in Qiskikt\"](https://github.com/MarkEich96/QuantencomputingWiSe23-24/blob/main/Einstieg%20in%20Qiskit.ipynb)"
   ]
  },
  {
   "cell_type": "code",
   "execution_count": null,
   "id": "d1ca6c09",
   "metadata": {},
   "outputs": [],
   "source": [
    "import numpy as np\n",
    "import qiskit\n",
    "from qiskit import (QuantumCircuit, QuantumRegister, ClassicalRegister)\n",
    "from qiskit import(execute, Aer, BasicAer)\n",
    "from qiskit.quantum_info.operators import Operator\n",
    "from qiskit.visualization import plot_histogram"
   ]
  },
  {
   "cell_type": "markdown",
   "id": "0e33a78a",
   "metadata": {},
   "source": [
    "Mit dem folgenden Befehl werden Grafiken direkt in der Ausgabe angezeigt."
   ]
  },
  {
   "cell_type": "code",
   "execution_count": null,
   "id": "c30b03a2",
   "metadata": {},
   "outputs": [],
   "source": [
    "%matplotlib inline"
   ]
  },
  {
   "cell_type": "markdown",
   "id": "f92c36e8",
   "metadata": {},
   "source": [
    "Mit dem folgenden Befehl wird die Simulationssoftware für das Ausführen der Schaltkreise festgelegt."
   ]
  },
  {
   "cell_type": "code",
   "execution_count": null,
   "id": "fde51b80",
   "metadata": {},
   "outputs": [],
   "source": [
    "simulator = Aer.get_backend('qasm_simulator')"
   ]
  },
  {
   "cell_type": "markdown",
   "id": "568ac44e",
   "metadata": {},
   "source": [
    "## Zufallsgenerator für ein Bit\n",
    "Das erste Ziel ist es einen Quantenschaltkreis mit einem Qubit und einem klassischen Bit zu konstruieren, der nach dem Ausführen mit einer Wahrscheinlichkeit von jeweils $50 \\%$ den Zustand $|0\\rangle$ oder $|1\\rangle$ in das klassische Bit geschrieben hat. "
   ]
  },
  {
   "cell_type": "markdown",
   "id": "2ba3ec77",
   "metadata": {},
   "source": [
    "### Aufbau des Schaltkreises\n",
    "Überlege Dir zuerst, wie sich aus dem Zustand $|0\\rangle$ mit den in der Vorlesung besprochenen Operationen (siehe dazu auch [Operationen auf Qubits](https://de.wikiversity.org/wiki/Kurs:Quantencomputing/Qubits)) ein Zustand konstruieren lässt, bei dem $|\\alpha|^2=|\\beta|^2=\\frac{1}{2}$ ist. Implemtiere die entsprechnednen Operation(en) in das vorgefertigte Code-Gerüst und erstelle so eine Skizze des Schaltkreises."
   ]
  },
  {
   "cell_type": "code",
   "execution_count": null,
   "id": "eaf14313",
   "metadata": {},
   "outputs": [],
   "source": [
    "# Quantenschaltkreis mit einem Qubit un einem klassischen Bit\n",
    "circuit = QuantumCircuit(1, 1) \n",
    "\n",
    "# Initialisiere das Qubit im Zustad |0>\n",
    "circuit.reset(0)\n",
    "\n",
    "# Füge hier Deine Operation(en) auf das Qubit ein\n",
    "\n",
    "\n",
    "# Ausführen der Messung und schreiben des Ergebnisses in das klassische Bit\n",
    "circuit.measure(0,0)\n",
    "\n",
    "# Füge hier den Code ein, um eine Skizze des Quantenschaltkreises zu erstellen\n"
   ]
  },
  {
   "cell_type": "markdown",
   "id": "38169e11",
   "metadata": {},
   "source": [
    "### Ausführung des Algorithmus\n",
    "Simuliere den Algorithmus nun mit 1000 Versuchen und schau, ob sich die Zustände $|0\\rangle$ und $|1\\rangle$ in etwa gleich oft ergeben. (Auch hier kann das Jupyter Notebook [\"Einstieg in Qiskikt\"](https://github.com/MarkEich96/QuantencomputingWiSe23-24/blob/main/Einstieg%20in%20Qiskit.ipynb) hilfreich sein)"
   ]
  },
  {
   "cell_type": "code",
   "execution_count": null,
   "id": "6822534c",
   "metadata": {},
   "outputs": [],
   "source": [
    "# Füge hier den Code zum Ausführen des Quantenschaltkreises ein"
   ]
  },
  {
   "cell_type": "markdown",
   "id": "cfd0b39a",
   "metadata": {},
   "source": [
    "## Zufallsgenerator für $n$ Bits\n",
    "Nun soll ein Register mit $n$ Qubits betrachtet werden. Dessen Zustand lässt sich in der Basis $|X\\rangle$ mit $X\\in\\{0, 1\\}^n$ angeben. Diese Basiszustände können, wenn sie als Binärzahlen gelesen werden, als die Zahlen $0$ bis $2^{n}-1$ aufgefasst werden. Ziel ist es nun einen Quantenschaltkreis zu implementieren, der eine Zufallszahl zwischen $0$ und $2^{n}-1$ bestimmt. Die jeweiligen Zahlen sollen dabei alle die gleiche Wahrscheinlichkeit haben."
   ]
  },
  {
   "cell_type": "markdown",
   "id": "5cc904ea",
   "metadata": {},
   "source": [
    "### Aufbau des Schaltkreises\n",
    "Lässt sich der zuvor gefundene Schaltkreis auf $n$ Qubits verallgemeinern? Wenn ja, implementiere ihn zunächst für $n=2$ Qubits und fertige eine Skizze an. Welche Ergebnisse sind für die Messung möglich? Wie wahrscheinlich ist es eine bestimmte Zufallszahl zu messen? Wie häufig sollte bei 1000 Ausführungen des Schaltkreis demnach jede Zufallszahl auftreten?"
   ]
  },
  {
   "cell_type": "code",
   "execution_count": null,
   "id": "0d942fa3",
   "metadata": {},
   "outputs": [],
   "source": [
    "# Festlegen der Anzahl der Qubits\n",
    "n = 2\n",
    "\n",
    "# Verallgemeinere den vorherigen Schaltkreis"
   ]
  },
  {
   "cell_type": "markdown",
   "id": "d351de28",
   "metadata": {},
   "source": [
    "### Ausführung des Algorithmus\n",
    "Simuliere den Algorithmus nun mit 1000 Versuchen und schau, ob sich die vier möglichen Zufallszahlen mit etwa der gleichen Häufigkeit einstellen. Handelt es sich um die Häufigkeit, die Du oben ermittelt hast? "
   ]
  },
  {
   "cell_type": "code",
   "execution_count": null,
   "id": "9631b949",
   "metadata": {},
   "outputs": [],
   "source": [
    "# Füge hier den Code zum Ausführen des Quantenschaltkreises ein"
   ]
  },
  {
   "cell_type": "markdown",
   "id": "ff947094",
   "metadata": {},
   "source": [
    "## Zufallsgenerator für ein Bit mit beliebiger Wahrscheinlichkeit\n",
    "Zuletzt soll ein Zufallsgenerator konstruiert werden, der für ein Bit beim Messen mit einer gegebenen Wahrscheinlichkeit $0\\leq p\\leq 1$ den Zustand $|0\\rangle$ ergibt."
   ]
  },
  {
   "cell_type": "markdown",
   "id": "4de2090d",
   "metadata": {},
   "source": [
    "### Aufbau des Schaltkreises\n",
    "Überlege Dir, wie sich mit dem U-Gatter aus dem Zustand $|0\\rangle$ ein beliebiger Zustand konstruieren lässt. Wie wahrscheinlich ist es, in diesem Zustand den Zustand $|0\\rangle$ zu messen? Implementiere den Schaltkreis so, dass sich der Zustand $|0\\rangle$ mit einer Wahrscheinlichkeit von $\\frac{1}{4}$ ergibt. Dafür kömmte folgende Tabelle hilfreich sein. ($\\alpha$ ist ein Winkel in Grad und $\\phi$ der entsprechende Winkel in rad. Python nimmt nur Winkel in rad an. $\\pi$ kann mit ``np.pi`` aufgerufen werden.)"
   ]
  },
  {
   "cell_type": "markdown",
   "id": "6c6264c8",
   "metadata": {},
   "source": [
    "| $\\alpha$ | $0^{\\circ}$ | $30^{\\circ}$ | $45^{\\circ}$ | $60^{\\circ}$ | $90^{\\circ}$ |\n",
    "| --- | --- | --- | --- | --- | --- |\n",
    "| $\\phi$ | $0$ | $\\pi/6$ | $\\pi/4$ | $\\pi/3$ | $\\pi/2$ |\n",
    "| $\\sin^2{(\\phi)}$ | $\\frac{0}{4}$ | $\\frac{1}{4}$ | $\\frac{2}{4}$ | $\\frac{3}{4}$ | $\\frac{4}{4}$ |\n",
    "| $\\cos^2{(\\phi)}$ | $\\frac{4}{4}$ | $\\frac{3}{4}$ | $\\frac{2}{4}$ | $\\frac{1}{4}$ | $\\frac{0}{4}$ |"
   ]
  },
  {
   "cell_type": "code",
   "execution_count": null,
   "id": "ddc8fe11",
   "metadata": {
    "scrolled": false
   },
   "outputs": [],
   "source": [
    "# Implementiere einen Schaltkreis bei dem der Zustand |0> mit der W'keit 1/4 gemessen wird"
   ]
  },
  {
   "cell_type": "markdown",
   "id": "d43c3f4d",
   "metadata": {},
   "source": [
    "### Ausführung des Algorithmus\n",
    "Simuliere den Algorithmus nun mit 1000 Versuchen. Wie häufig sollte sich demnach der Zustand $|0\\rangle$ einstellen? Passt die Simulation zu Deinen Überlegungen?"
   ]
  },
  {
   "cell_type": "code",
   "execution_count": null,
   "id": "4d6c68a0",
   "metadata": {},
   "outputs": [],
   "source": [
    "# Füge hier den Code zum Ausführen des Quantenschaltkreises ein"
   ]
  }
 ],
 "metadata": {
  "kernelspec": {
   "display_name": "Python 3 (ipykernel)",
   "language": "python",
   "name": "python3"
  },
  "language_info": {
   "codemirror_mode": {
    "name": "ipython",
    "version": 3
   },
   "file_extension": ".py",
   "mimetype": "text/x-python",
   "name": "python",
   "nbconvert_exporter": "python",
   "pygments_lexer": "ipython3",
   "version": "3.8.1"
  }
 },
 "nbformat": 4,
 "nbformat_minor": 5
}
