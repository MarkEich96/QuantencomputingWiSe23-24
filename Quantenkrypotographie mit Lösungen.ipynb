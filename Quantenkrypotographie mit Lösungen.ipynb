{
 "cells": [
  {
   "cell_type": "markdown",
   "id": "4ac31b82",
   "metadata": {},
   "source": [
    "# Quantenkryptographie und -teleportation\n",
    "In diesem Notebook sollen einige Aspekte zum Thema Informationsübertragung mit Quantencomputern untersucht werden."
   ]
  },
  {
   "cell_type": "markdown",
   "id": "db555e24",
   "metadata": {},
   "source": [
    "## Vorbereitungen\n",
    "Wie in jedem Jupyter Notebook werden zunächst die benötigten Pakete geladen und einige Voreinstellungen getroffe. (Siehe hierzu auch [\"Einstieg in Qiskikt\"](https://github.com/MarkEich96/QuantencomputingWiSe23-24/blob/main/Einstieg%20in%20Qiskit.ipynb))"
   ]
  },
  {
   "cell_type": "markdown",
   "id": "6e22fd10",
   "metadata": {},
   "source": [
    "__Pakete__"
   ]
  },
  {
   "cell_type": "code",
   "execution_count": null,
   "id": "0f467a12",
   "metadata": {},
   "outputs": [],
   "source": [
    "import numpy as np\n",
    "import qiskit\n",
    "from qiskit import (QuantumCircuit, QuantumRegister, ClassicalRegister)\n",
    "from qiskit import(execute, Aer, BasicAer)\n",
    "from qiskit.quantum_info.operators import Operator\n",
    "from qiskit.visualization import plot_histogram"
   ]
  },
  {
   "cell_type": "markdown",
   "id": "35bd096a",
   "metadata": {},
   "source": [
    "__Anzeigen von Grafiken__"
   ]
  },
  {
   "cell_type": "code",
   "execution_count": null,
   "id": "b27b9e52",
   "metadata": {},
   "outputs": [],
   "source": [
    "%matplotlib inline"
   ]
  },
  {
   "cell_type": "markdown",
   "id": "8b21435e",
   "metadata": {},
   "source": [
    "__Einstellen der Simulationssoftware__"
   ]
  },
  {
   "cell_type": "code",
   "execution_count": null,
   "id": "e1a7ec6e",
   "metadata": {},
   "outputs": [],
   "source": [
    "simulator = Aer.get_backend('qasm_simulator')"
   ]
  },
  {
   "cell_type": "markdown",
   "id": "142a1a97",
   "metadata": {},
   "source": [
    "## Dichte Kodierung"
   ]
  },
  {
   "cell_type": "markdown",
   "id": "66923521",
   "metadata": {},
   "source": [
    "Bei der Behandlung des [\"Problems von Deutsch\"](https://github.com/MarkEich96/QuantencomputingWiSe23-24/blob/main/Das%20Problem%20von%20Deutsch.ipynb) und verwandten Algorithmen, haben wir bereits gesehen, dass Quantencomputer aufgrund der Superposition der Zustände in der Lage sind, Aufgaben mit weniger Aufrufen zu lösen als ein klassischer Computer. Es scheint also, als könnte ein Quantencomputer mehr Informationen auf einmal verarbeiten. Damit stellt sich die Frage, ob es auch möglich ist mehr Informationen als mit einem klassischen Computer zu übertragen. "
   ]
  },
  {
   "cell_type": "markdown",
   "id": "7e1329cc",
   "metadata": {},
   "source": [
    "### Verschränkte Qubits\n",
    "Alice und Bob wollen mit Hilfe von Qubits eine von vier Optionen übertragen und dabei nur ein einziges Qubit versenden. Sie treffen sich und präperieren Ihre beiden Qubits.\n",
    "\n",
    "__Aufgabe__: Betrachte den Quantenschaltkreis, den der unten stehende Code erzeugt. In welchem Zustand befinden sich die Qubits nach Ausführen des Schaltkreises? Warum müssen sich Alice und Bob treffen, um diesen Schaltkreis auszuführen?"
   ]
  },
  {
   "cell_type": "code",
   "execution_count": null,
   "id": "c43f446f",
   "metadata": {},
   "outputs": [],
   "source": [
    "# Erstelle ein Quantenregister mit Alices Bit\n",
    "alice = QuantumRegister(1, name = 'a')\n",
    "# Erstelle ein Quantenregister mit Bobs Bit\n",
    "bob = QuantumRegister(1, name = 'b')\n",
    "\n",
    "# Füge die beiden Bits zu einem Schaltkreis zussammen\n",
    "circuit = QuantumCircuit(bob, alice)\n",
    "\n",
    "# Initialisiere die beiden Bits in den Zuständen |0>\n",
    "circuit.reset(range(2))\n",
    "\n",
    "# Wende die Hadamard-Transformation auf Alices Bit an\n",
    "circuit.h(1)\n",
    "\n",
    "# Wende das CNOT-Gatter mit ALices Bit als Kontrollbit an\n",
    "circuit.cx(1, 0)\n",
    "\n",
    "# Zeichne den Schaltkreis\n",
    "circuit.draw(output = 'mpl')"
   ]
  },
  {
   "cell_type": "markdown",
   "id": "4dfa71d7",
   "metadata": {},
   "source": [
    "__Lösung__: Zu Anfang befindet sich die beiden Qubits im Zustand $|R\\rangle=|a\\rangle|b\\rangle=|00\\rangle$. Nach der Hadamard-Transformation auf das Qubit $|a\\rangle$ befindet sich dieses im Zustand $|+\\rangle$ und der Zustand des Registers ist durch\n",
    "$$|R\\rangle=\\frac{1}{\\sqrt{2}}\\bigg(|0\\rangle|0\\rangle+|1\\rangle|0\\rangle\\bigg)$$\n",
    "gegeben. Das Anwenden des CNOT-Gatters auf zwei Qubits $|x\\rangle|y\\rangle$ mit $x, y\\in\\{0, 1\\}$ entspricht der Operation $C_X|x\\rangle|y\\rangle=|x\\rangle|y\\oplus x\\rangle$. Also befindet sich das Register zu Ende des Schaltkreises im Zustand \n",
    "$$|R\\rangle=\\frac{1}{\\sqrt{2}}\\bigg(|0\\rangle|0\\rangle+|1\\rangle|1\\rangle\\bigg)$$\n",
    "Dies ist der Zustand $|\\Phi^+\\rangle$ aus der Bell-Basis (Siehe auch [Wikiversity-Artikel Register](https://de.wikiversity.org/wiki/Kurs:Quantencomputing/Register)).\n",
    "\n",
    "Das CNOT-Gatter verschränkt die Qubits miteinander. Dies funktioniert nur, wenn sich beide Qubits in umittelbarer Nähe befinden. (Weiter unten wird auch eine Methode vorgestellt, wie Alice und Bob ein verschränktes Paar an Qubits bekommen können, ohne je vorher in direktem Kontakt gestanden haben zu müssen. Dafür sind aber ebenfalls Verschränkungen von Qubits nötig, die sich \"am selben Ort\" befinden)"
   ]
  },
  {
   "cell_type": "markdown",
   "id": "0fc499e4",
   "metadata": {},
   "source": [
    "### Operation auf einem Qubit"
   ]
  },
  {
   "cell_type": "markdown",
   "id": "5494135e",
   "metadata": {},
   "source": [
    "Nun begibt sich Alice mit ihrem Qubit an einen von Bob weit entfernten Ort. Alice entscheidet sich eine von vier Operationen auf ihr Qubit auszuführen. Die vier Operationen, die ihr zur Verfügung stehen sind $I$, $X$, $Y$ und $Z$. (Siehe auch [Wikiversity-Artikel Qubits](https://de.wikiversity.org/wiki/Kurs:Quantencomputing/Qubits))"
   ]
  },
  {
   "cell_type": "code",
   "execution_count": null,
   "id": "0b8f60a5",
   "metadata": {},
   "outputs": [],
   "source": [
    "def alice_change_bit(Circuit, operation = \"I\"):\n",
    "    if operation == \"I\":\n",
    "        Circuit.id(1)\n",
    "    elif operation == \"X\":\n",
    "        Circuit.x(1)\n",
    "    elif operation == \"Y\":\n",
    "        Circuit.y(1)\n",
    "    elif operation == \"Z\":\n",
    "        Circuit.z(1)\n",
    "    else:\n",
    "        print(\"Da ist etwas schief gelaufen in alice_change_bit\")"
   ]
  },
  {
   "cell_type": "markdown",
   "id": "083f419a",
   "metadata": {},
   "source": [
    "__Aufgabe__: In welchen Zuständen befindet sich das Register nach dem Ausführen der einzelnen Operationen."
   ]
  },
  {
   "cell_type": "markdown",
   "id": "7bb1f591",
   "metadata": {},
   "source": [
    "__Lösung__: \n",
    "* Die Operation $I$ ändert nichts am Qubit $|a\\rangle$ und somit nichts am Zustand von $|R\\rangle$\n",
    "* Wird die Operation $X$ angewandt, so wird sich der Zustand\n",
    "  $$|R\\rangle=\\frac{1}{\\sqrt{2}}\\bigg(|1\\rangle|0\\rangle+|0\\rangle|1\\rangle\\bigg)=|\\Psi^+\\rangle$$\n",
    "  ergeben. Es handelt sich wieder um einen der vier Zustände der Bell-Basis\n",
    "* Die Operation $Y$ hat auf die Zustände $|0\\rangle$ und $|1\\rangle$ die Wirkung\n",
    "  $$Y|0\\rangle=\\mathrm{i}|1\\rangle\\quad\\quad Y|1\\rangle=-\\mathrm{i}|0\\rangle$$\n",
    "  Damit ist das Register nach dem Ausführen im Zustand\n",
    "  $$|R\\rangle=\\frac{\\mathrm{i}}{\\sqrt{2}}\\bigg(|1\\rangle|0\\rangle-|0\\rangle|1\\rangle\\bigg)=\\frac{-\\mathrm{i}}{\\sqrt{2}}\\bigg(|0\\rangle|1\\rangle-|1\\rangle|0\\rangle\\bigg)=-\\mathrm{i}|\\Psi^-\\rangle$$\n",
    "  und ist damit bis auf einen Phasenfaktor mit einem der Zustände der Bell-Basis gleich.\n",
    "* Schlussendlich bleibt die Wirkung von $Z$, das nur das Vorzeichen im Zustand $|1\\rangle$ vertauscht, weshalb sich\n",
    "  $$|R\\rangle=\\frac{1}{\\sqrt{2}}\\bigg(|0\\rangle|0\\rangle-|1\\rangle|1\\rangle\\bigg)=|\\Phi^-\\rangle$$\n",
    "  ergibt. Auch hier handelt es sich um einen der vier Zustände der Bell-Basis."
   ]
  },
  {
   "cell_type": "markdown",
   "id": "0c529a8f",
   "metadata": {},
   "source": [
    "### Extrahieren der Informationen"
   ]
  },
  {
   "cell_type": "markdown",
   "id": "0663da97",
   "metadata": {},
   "source": [
    "Alice schickt ihr Qubit an Bob. Dieser möchte aus Alices und seinem Qubit nun herausfinden, welche Operation Alice angewandt hat."
   ]
  },
  {
   "cell_type": "markdown",
   "id": "28ba514d",
   "metadata": {},
   "source": [
    "__Aufgabe__: Wie lässt sich aus dem Zustand $|\\Phi^+\\rangle$ wieder der Zustand $|00\\rangle$ gewinnen? Was passiert, wenn die gleichen Operationen auf die anderen drei Zustände, die sich nach dem Ausführen einer Operation auf Alice' Bit ergeben, angewandt werden?"
   ]
  },
  {
   "cell_type": "markdown",
   "id": "0203f285",
   "metadata": {},
   "source": [
    "__Lösung__: Der Zustand $|\\Phi^+\\rangle$ wird aus $|a\\rangle|b\\rangle=|00\\rangle$ gewonnen, indem zuerst $H$ auf das Bit $|a\\rangle$ und anschließend das CNOT-Gatter mit $|a\\rangle$ als Kontrollbit angewandt wird. Das heißt zunächst muss das CNOT-Gatter rückgängig gemacht werden. Da das CNOT-Gatter auf die Bits $|x\\rangle|y\\rangle$ die Wirkung $C_X|x\\rangle|y\\rangle=|x\\rangle|y\\oplus x\\rangle$ hat, kann es durch eine erneute Anwendung $C_X|x\\rangle|y\\oplus x\\rangle=|x\\rangle|y\\oplus x\\oplus x\\rangle=|x\\rangle|y\\rangle$ wegen $x\\oplus x = 0$ wieder rückgängig gemacht werden. Nun muss die Umkehrung der Hadamard-Transformation gefunden werden. Bei ihr handelt es sich um eine unitäre Matrix. Außerdem ist sie rein reell und symmetrisch und daher ihr eigenes Inverses. <br> \n",
    "Somit muss für die gesamte Umkehrung zunächst das CNOT-Gatter mit $|a\\rangle$ als Kontollbit angewandt werden. Danach wird auf $|a\\rangle$ die Hadamard-Matrix angewandt. \n",
    "\n",
    "Dies kann für die drei sich ergebenden Zustände gemacht werden:\n",
    "* Im Falle $X$:  \n",
    "  $$C_X|R\\rangle=\\frac{1}{\\sqrt{2}}\\bigg(|1\\rangle|1\\rangle+|0\\rangle|1\\rangle\\bigg)=\\frac{1}{\\sqrt{2}}\\bigg(|0\\rangle+|1\\rangle\\bigg)|1\\rangle=|+\\rangle|1\\rangle$$\n",
    "  und nach Anwenden von $H$\n",
    "  $$|R\\rangle=|0\\rangle|1\\rangle$$\n",
    "* Im Fall $Y$:\n",
    "  $$C_X|R\\rangle=\\frac{-\\mathrm{i}}{\\sqrt{2}}\\bigg(|0\\rangle|1\\rangle-|1\\rangle|1\\rangle\\bigg)=\\frac{-\\mathrm{i}}{\\sqrt{2}}\\bigg(|0\\rangle-|1\\rangle\\bigg)|1\\rangle=-\\mathrm{i}|-\\rangle|1\\rangle$$\n",
    "  und nach Anwenden von $H$\n",
    "  $$|R\\rangle=-\\mathrm{i}|1\\rangle|1\\rangle$$\n",
    "* Im Fall $Z$:\n",
    "  $$C_X|R\\rangle=\\frac{1}{\\sqrt{2}}\\bigg(|0\\rangle|0\\rangle-|1\\rangle|0\\rangle\\bigg)=\\frac{1}{\\sqrt{2}}\\bigg(|0\\rangle-|1\\rangle\\bigg)|0\\rangle=|-\\rangle|0\\rangle$$\n",
    "  und nach Anwenden von $H$\n",
    "  $$|R\\rangle=|1\\rangle|0\\rangle$$"
   ]
  },
  {
   "cell_type": "markdown",
   "id": "7fa85f75",
   "metadata": {},
   "source": [
    "### Implementieren des Vorgehens"
   ]
  },
  {
   "cell_type": "markdown",
   "id": "fd1695c3",
   "metadata": {},
   "source": [
    "__Aufgabe__: Vervollständige das unten stehende Code-Gerüst, um den vollständigen Schaltkreis für das hier diskutierte Kodierungsverfahren von Informationen zu skizzieren. "
   ]
  },
  {
   "cell_type": "code",
   "execution_count": null,
   "id": "928f85ff",
   "metadata": {
    "scrolled": true
   },
   "outputs": [],
   "source": [
    "# Erstelle einen Quantenschaltkreis mit Qubits für Alice und Bob\n",
    "# und 2 klassischen Bits\n",
    "alice = QuantumRegister(1, name = 'a')\n",
    "bob = QuantumRegister(1, name = 'b')\n",
    "classical = ClassicalRegister(2, name ='c')\n",
    "\n",
    "circuit = QuantumCircuit(bob, alice, classical)\n",
    "\n",
    "# Generiere den Anfangszustan |Phi+>\n",
    "circuit.reset(range(2))\n",
    "circuit.h(1)\n",
    "circuit.cx(1, 0)\n",
    "\n",
    "# Ergänze den Rest des Codes mit den oben besprochenen Operationen\n",
    "\n",
    "# Alice entfernt sich von Bob\n",
    "circuit.barrier()\n",
    "\n",
    "# Alice wendet ihre Operation an\n",
    "alice_change_bit(circuit, \"I\")\n",
    "\n",
    "# Alice schickt ihr Bit zurück an Bob\n",
    "circuit.barrier()\n",
    "\n",
    "# Bob macht die Verschränkung rückgängig\n",
    "circuit.cx(1, 0)\n",
    "circuit.h(1) \n",
    "\n",
    "# Bob misst die beiden Qubits\n",
    "circuit.measure(range(2), range(2))\n",
    "\n",
    "# Zeichne den Schaltkreis\n",
    "circuit.draw(output = 'mpl')"
   ]
  },
  {
   "cell_type": "markdown",
   "id": "821d1340",
   "metadata": {},
   "source": [
    "### Interpretieren des Informationsaustausch"
   ]
  },
  {
   "cell_type": "markdown",
   "id": "41166971",
   "metadata": {},
   "source": [
    "Das hier vorgestellet Verfahren wird als _dichte Codierung_ bezeichnet.\n",
    "\n",
    "__Aufgabe__: Wie viele klassische Bits müsste Alice an Bob senden, um eine von vier Optionen zu übermitteln? Stelle Dir vor, Alice und Bob befinden sich niemals am selben Ort? Wie viele Qubits müssen sie dann übertragen, um diesen Algorithmus auszuführen?"
   ]
  },
  {
   "cell_type": "markdown",
   "id": "2f3bd04f",
   "metadata": {},
   "source": [
    "__Lösung__: Um vier Optionen mit klassischen Bits darzustellen, ist es nötig die Zahlen $0$ bis $3$ binär darzustellen. Das ist nur durch $00$, $01$, $10$ und $11$ der Fall. Also werden zwei klassische Bits benötigt. In der obigen Beschreibung musste Alice aber nur _ein einziges_ Qubit an Bob verschicken, da sie ihre Qubits vorher verschränkt haben. <br>\n",
    "Wenn sich Bob und Alice nie getroffen haben, dann brauchen sie zum Durchführen trotzdem ein paar an verschränkten Qubits. Bob könnte diese vorbereiten und eines davon an Alice schicken. Alice führt ihre Operation auf das Qubit aus und schickt es zurück an Bob. Also wurden _zwei_ Qubits verschickt. <br>\n",
    "Allein durch das verwenden von Qubits lässt sich nicht durch weniger Bitaustausche mehr Information übertragen. Die sogenannte [Holevo-Schranke](https://en.wikipedia.org/wiki/Holevo%27s_theorem) besagt, dass aus $n$ Qubits immer nur $n$ Bits an klassischen Informationen extrahiert werden kann. Das heißt nur durch das verwenden beider Qubits ist es möglich die zwei klassichen Bits an Informationen zu bekommen. "
   ]
  },
  {
   "cell_type": "markdown",
   "id": "76f18075",
   "metadata": {},
   "source": [
    "### Ausprobieren des Verfahrens"
   ]
  },
  {
   "cell_type": "markdown",
   "id": "15742e35",
   "metadata": {},
   "source": [
    "Mit dem folgenden Code, kannst Du Deinen Schaltkreis ausprobieren."
   ]
  },
  {
   "cell_type": "code",
   "execution_count": null,
   "id": "366873c9",
   "metadata": {
    "scrolled": true
   },
   "outputs": [],
   "source": [
    "job = execute(circuit, simulator, shots = 1000)\n",
    "results = job.result()\n",
    "plot_histogram(results.get_counts())"
   ]
  },
  {
   "cell_type": "markdown",
   "id": "fa0b2f79",
   "metadata": {},
   "source": [
    "## Das No-Cloning-Theorem\n",
    "Eine weitere Operation, die ein klassischer Computer mit Informationen vornehemen kann, ist es diese zu kopieren. Damitk kann die Frage aufkommen, ob es möglich ist Qubits zu kopieren. \n",
    "\n",
    "Dazu können zwei Qubits in den Zuständen $|\\psi\\rangle|\\phi\\rangle$ betrachtet werden. Wenn ein Rechner in der Lage sein soll, den Quantenzustand $|\\psi\\rangle$ zu kopieren, dann müsste es einen unitären Operator $U_C$ mit der Eigenschaft\n",
    "$$U_C|\\psi\\rangle|\\phi\\rangle=|\\psi\\rangle|\\psi\\rangle$$\n",
    "geben. \n",
    "\n",
    "__Aufgabe__: Betrachte zwei Anfangszustände $|\\psi_{1, 2}\\rangle|\\phi\\rangle$ und bestimme deren Skalarprodukt nachdem auf beide $U_C$ angewandt wurde. Welche beiden Ausdrücke lassen sich finden? Warum ist es damit unmöglich beliebige Quantenzustände zu kopieren?"
   ]
  },
  {
   "cell_type": "markdown",
   "id": "ba76e875",
   "metadata": {},
   "source": [
    "__Lösung__: Nach dem Anwenden von $U_C$ sind die beiden Zustände durch $|\\psi_{1, 2}\\rangle|\\psi_{1, 2}\\rangle$ gegeben und ihr Skalarprodukt kann zu $$\\langle\\psi_{1}|\\psi_2\\rangle\\cdot\\langle\\psi_1|\\psi_2\\rangle=(\\langle \\psi_1|\\psi_2\\rangle)^2$$ \n",
    "bestimmt werden. Auf der anderen Seite muss wegen der Unitarität von $U_C$ auch\n",
    "$$(U_C|\\psi_1\\rangle|\\phi\\rangle)^{\\dagger}(U_C|\\psi_2\\rangle|\\phi\\rangle)=\\langle\\psi_1|\\langle\\phi|U_C^{\\dagger}U_C|\\psi_2\\rangle|\\phi\\rangle=\\langle\\phi|\\phi\\rangle\\cdot\\langle\\psi_1|\\psi_2\\rangle=\\langle \\psi_1|\\psi_2\\rangle$$\n",
    "gelten. Damit muss auch die Gleichung\n",
    "$$\\langle\\psi_1|\\psi_2\\rangle=(\\langle\\psi_1|\\psi_2\\rangle)^2$$\n",
    "gelten. Diese Gleichung wird auch in den komplexen Zahlen nur von \n",
    "$$\\langle\\psi_1|\\psi_2\\rangle\\in\\{0, 1\\}$$\n",
    "gelöst. Also wenn die Zustände orthogonal oder gleich sind. Damit erklärt sich, warum das kopieren im klassischen Fall mit den orthogonalen Zuständen $|0\\rangle$ und $|1\\rangle$ möglich ist. Für Qubits ist es daher unmöglich sie zu kopieren. Diese Erkenntniss ist das No-Cloning Theorem."
   ]
  },
  {
   "cell_type": "markdown",
   "id": "1606f444",
   "metadata": {},
   "source": [
    "## Quantenteleportation\n",
    "Wenn nun nach dem No-Cloning-Theorem ein Copy und Paste unmöglich ist, könnte es wenigstens die Hoffnung geben, dass ein Cut and Paste durchgeführt werden kann. Das ein Qubit also an einer Stelle dem Schaltkreis entnommen wird und an anderer Stelle wieder eingesetzt wird."
   ]
  },
  {
   "cell_type": "markdown",
   "id": "8057bef2",
   "metadata": {},
   "source": [
    "### Vorbereitungen"
   ]
  },
  {
   "cell_type": "markdown",
   "id": "463b11d0",
   "metadata": {},
   "source": [
    "Bob möchte Alice ein Qubit schicken. Durch ein vorheriges Treffen konnten sie mit dem untenstehenden Schaltkreis ein verschränktes Paar an Qubits erzeugen, die im Zustand $|a\\rangle|b\\rangle=|\\Phi^+\\rangle$ sind."
   ]
  },
  {
   "cell_type": "code",
   "execution_count": null,
   "id": "62cb1053",
   "metadata": {
    "scrolled": true
   },
   "outputs": [],
   "source": [
    "# Erstelle Quantenregister für Alice und Bob\n",
    "alice = QuantumRegister(1, name = 'a')\n",
    "bob = QuantumRegister(1, name = 'b')\n",
    "\n",
    "# Erstelle einen Quantenschaltkreis\n",
    "circuit = QuantumCircuit(bob, alice)\n",
    "\n",
    "# Verschränke die Qubits in den Zustand |Phi+>\n",
    "circuit.reset(range(2))\n",
    "circuit.h(1)\n",
    "circuit.cx(1, 0)\n",
    "\n",
    "# Skizziere den Schaltkreis\n",
    "circuit.draw(output = 'mpl')"
   ]
  },
  {
   "cell_type": "markdown",
   "id": "61dbed19",
   "metadata": {},
   "source": [
    "### Operationen am zu übermittelnden Bit"
   ]
  },
  {
   "cell_type": "markdown",
   "id": "5dd109be",
   "metadata": {},
   "source": [
    "Nun präperiert Bob ein Qubit $|\\psi\\rangle$ in einen beliebigen Zustand \n",
    "$$|\\psi\\rangle=\\alpha|0\\rangle+\\beta|1\\rangle$$\n",
    "Er verschränkt dieses anschließend mit seinem Qubit $|b\\rangle$, das mit Alices Qubit $|a\\rangle$ verschränkt ist. Dazu benutzt er den Schaltkreis, den der folgende Code erzeugt."
   ]
  },
  {
   "cell_type": "code",
   "execution_count": null,
   "id": "4cf0f3c1",
   "metadata": {
    "scrolled": true
   },
   "outputs": [],
   "source": [
    "# Erstelle Quantenregister für Alice und Bob\n",
    "alice = QuantumRegister(1, name = 'a')\n",
    "bob = QuantumRegister(1, name = 'b')\n",
    "psi = QuantumRegister(1, name = '\\psi')\n",
    "\n",
    "# Erstelle einen Quantenschaltkreis\n",
    "circuit = QuantumCircuit(psi, bob, alice)\n",
    "\n",
    "# Verschränke die Qubits in den Zustand |Phi+>\n",
    "circuit.reset(range(1, 3))\n",
    "circuit.h(2)\n",
    "circuit.cx(2, 1)\n",
    "\n",
    "# Räumliche Trennung von Alice und Bob\n",
    "circuit.barrier()\n",
    "\n",
    "# Initialiseren von |Psi> (al, bet und init erzeigen das schön aussehende lila Gatter)\n",
    "circuit.reset(0)\n",
    "al = qiskit.circuit.Parameter(r'$\\alpha$')\n",
    "bet = qiskit.circuit.Parameter(r'$\\beta$')\n",
    "init = qiskit.circuit.Gate(name = r'$|\\psi\\rangle$', num_qubits = 1, params = [al, bet])\n",
    "circuit.append(init, [0])\n",
    "\n",
    "# Verschränke |Psi> mit |b>\n",
    "circuit.cx(0, 1)\n",
    "circuit.h(0)\n",
    "\n",
    "\n",
    "# Skizziere den Schaltkreis\n",
    "circuit.draw(output = 'mpl')"
   ]
  },
  {
   "cell_type": "markdown",
   "id": "a799d533",
   "metadata": {},
   "source": [
    "__Aufgabe__: In welchem Zustand befindet sich das Register $|R\\rangle=|a\\rangle|b\\rangle|\\psi\\rangle$ nach dem Ausführen des Schaltkreises?"
   ]
  },
  {
   "cell_type": "markdown",
   "id": "2d5e318b",
   "metadata": {},
   "source": [
    "__Lösung__: Vor der Anwendung des CNOT-Gatters auf $|\\psi\\rangle$ und $|b\\rangle$ befindet sich das Register im Zustand\n",
    "$$|R\\rangle=\\frac{1}{\\sqrt{2}}\\bigg(|0\\rangle|0\\rangle+|1\\rangle|1\\rangle\\bigg)\\bigg(\\alpha|0\\rangle+\\beta|1\\rangle\\bigg)\\\\\n",
    "=\\frac{1}{\\sqrt{2}}\\bigg(\\alpha|000\\rangle+\\beta|001\\rangle+\\alpha|110\\rangle+\\beta|111\\rangle\\bigg)$$\n",
    "Nun wird das CNOT-Gatter mit $|\\psi\\rangle$ als Kontrollbit auf $|b\\rangle$ angwendet. Das heißt, wenn das Bit $z$ in der Angabe $|xyz\\rangle$ eins ist, wird das bit $y$ gedreht, so dass sich in diesem Fall\n",
    "$$|R\\rangle=\\frac{1}{\\sqrt{2}}\\bigg(\\alpha|000\\rangle+\\beta|011\\rangle+\\alpha|110\\rangle+\\beta|101\\rangle\\bigg)\\\\\n",
    "=\\frac{1}{\\sqrt{2}}\\bigg(\\alpha(|00\\rangle+|11\\rangle)|0\\rangle+\\beta(|01\\rangle+|10\\rangle)|1\\rangle\\bigg)$$\n",
    "ergibt. Nach dem Anwenden von $H$ auf $|\\psi\\rangle$ kann so schließlich\n",
    "$$|R\\rangle=\\frac{1}{2}\\bigg(\\alpha(|00\\rangle+|11\\rangle)(|0\\rangle+|1\\rangle)+\\beta(|01\\rangle+|10\\rangle)(|0\\rangle-|1\\rangle)\\bigg)\\\\\n",
    "=\\frac{1}{2}\\bigg(\\alpha|000\\rangle+\\alpha|001\\rangle+\\beta|010\\rangle-\\beta|011\\rangle+\\beta|100\\rangle-\\beta|101\\rangle+\\alpha|110\\rangle+\\alpha|111\\rangle\\bigg)$$\n",
    "gefunden werden."
   ]
  },
  {
   "cell_type": "markdown",
   "id": "783d7169",
   "metadata": {},
   "source": [
    "### Übertragen der Informationen\n",
    "Nun misst Bob seine beiden Bits und schreibt sich die Ergebnisse auf. \n",
    "\n",
    "__Aufgabe__: Erstelle eine Tabelle für die möglichen Messergebnisse von $b$ und $\\psi$. In welchem Zustand befindet sich dann das Bit von Alice?"
   ]
  },
  {
   "cell_type": "markdown",
   "id": "0a5a9098",
   "metadata": {},
   "source": [
    "__Lösung__:\n",
    "\n",
    "| $|b\\rangle$ | $|\\psi\\rangle$ | $|a\\rangle$ |\n",
    "| -- | -- | -- | \n",
    "| $0$ | $0$ | $\\alpha |0\\rangle+\\beta |1\\rangle$ |\n",
    "| $0$ | $1$ | $\\alpha|0\\rangle-\\beta|1\\rangle$ |\n",
    "| $1$ | $0$ | $\\alpha|1\\rangle+\\beta|0\\rangle$ |\n",
    "| $1$ | $1$ | $\\alpha|1\\rangle-\\beta|0\\rangle$ |"
   ]
  },
  {
   "cell_type": "markdown",
   "id": "d0946f82",
   "metadata": {},
   "source": [
    "Bob schickt seine Messunegn über einen klassischen Weg an Alice. \n",
    "\n",
    "__Aufgabe__: Welche Operationen muss sie auf ihr Bit anwenden, um es in den ursrpünglichen Zustand $|\\psi\\rangle=\\alpha|0\\rangle+\\beta |1\\rangle$ umzuwandeln?"
   ]
  },
  {
   "cell_type": "markdown",
   "id": "0c609a28",
   "metadata": {},
   "source": [
    "__Lösungen__: \n",
    "* Im Fall $b=0$, $\\psi = 0$ befindet sich das Bit $|b\\rangle$ bereits im richtigen Zustand. Alice muss nichts ändern.\n",
    "* Im Fall $b=0$, $\\psi = 1$ ist das Vorzeichen für den Zustand $|1\\rangle$ falsch. Es kann durch das Anwenden der Operation $Z$ korrigiert werden.\n",
    "* Im Fall $b=1$, $\\psi = 0$ sind die Zustände $|0\\rangle$ und $|1\\rangle$ bezüglich ihrer Koeffizienten vertauscht. Es muss also ein Bitflip $X$ angewendet werden.\n",
    "* Im Fall $b = 1$ und $\\psi = 1$ sind die Zustände auch bzgl. ihrer Koeffizienten vertauscht. Es muss also wieder ein Bitflip $X$ angewendet werden. Dann ist aber weiterhin das Vorzeichen des Zustands $|1\\rangle$ falsch. Es kann durch das Anwenden der Operation $Z$ korrigiert werden. Hier ist die Reihenfolge wichtig!\n",
    "\n",
    "Insgesamt zeigt sich somit: \n",
    "* Wenn $b=1$ ist, muss ein Bitflip $X$ durchgeführt werden. \n",
    "* Wen $\\psi = 1$ ist, muss $Z$ angewendet werden.\n",
    "* Es muss zuerst der Bitflip $X$ und dann die Operation $Z$ stattfinden."
   ]
  },
  {
   "cell_type": "markdown",
   "id": "db87c198",
   "metadata": {},
   "source": [
    "### Implementieren des Algorithmus"
   ]
  },
  {
   "cell_type": "markdown",
   "id": "54326905",
   "metadata": {},
   "source": [
    "__Aufgabe__: Verwende den bedingten Bitflip $X$ ``cx`` und das bedingte $Z$ ``cz``, um das Verfahren im unten stehenden Code-Gerüst zu implementieren."
   ]
  },
  {
   "cell_type": "code",
   "execution_count": null,
   "id": "4b3e4ebc",
   "metadata": {
    "scrolled": false
   },
   "outputs": [],
   "source": [
    "# Erstelle Quantenregister für Alice und Bob\n",
    "alice = QuantumRegister(1, name = 'a')\n",
    "bob = QuantumRegister(1, name = 'b')\n",
    "psi = QuantumRegister(1, name = '\\psi')\n",
    "\n",
    "# Ein klassisches Register für die Messung\n",
    "classical = ClassicalRegister(1, name = 1)\n",
    "\n",
    "# Erstelle einen Quantenschaltkreis\n",
    "circuit = QuantumCircuit(psi, bob, alice, classical)\n",
    "\n",
    "# Verschränke die Qubits in den Zustand |Phi+>\n",
    "circuit.reset(range(1, 3))\n",
    "circuit.h(2)\n",
    "circuit.cx(2, 1)\n",
    "\n",
    "# Räumliche Trennung von Alice und Bob\n",
    "circuit.barrier()\n",
    "\n",
    "# Initialiseren von |Psi> \n",
    "# Hier werden zufällige Parameter für Psi gewählt\n",
    "circuit.reset(0)\n",
    "th, phi = np.pi*np.random.rand(), 2*np.pi*np.random.rand()\n",
    "circuit.u(th, phi, 0, 0)\n",
    "\n",
    "# Verschränke |Psi> mit |b>\n",
    "circuit.cx(0, 1)\n",
    "circuit.h(0)\n",
    "\n",
    "circuit.barrier()\n",
    "\n",
    "# Ergänze hier die fehlenden Operationen, um |psi> in das Bit |a> zu übertragen\n",
    "# Messen der beiden Bits, die messergebnisse sind nicht wichtig\n",
    "circuit.measure(0, 0)\n",
    "circuit.measure(1, 0)\n",
    "\n",
    "# Zuerst müssen Bits geflippt werden, wenn b = 1\n",
    "circuit.cx(1, 2)\n",
    "\n",
    "# Dann muss das Vorzeichen von |1> gedreht werden, falls psi = 1\n",
    "circuit.cz(0, 2)\n",
    "\n",
    "# Um zu prüfen ob der Algoritmus funktioniert hat, soll |a> auf |0> gedreht werden\n",
    "# Mit welchen Parametern wird diese Drehung durchgeführt?\n",
    "circuit.u(th, np.pi, np.pi-phi, 2)\n",
    "\n",
    "# Messe Bit |a> um zu prüfen, ob sich stets 0 ergibt\n",
    "circuit.measure(2, 0)\n",
    "\n",
    "# Skizziere den Schaltkreis\n",
    "circuit.draw(output = 'mpl')"
   ]
  },
  {
   "cell_type": "markdown",
   "id": "0447b923",
   "metadata": {},
   "source": [
    "### Ausführen des Schaltkreieses\n",
    "Mit dem untenstehenden Code, kannst Du den Schaltkreis ausprobieren."
   ]
  },
  {
   "cell_type": "code",
   "execution_count": null,
   "id": "00c3a8e1",
   "metadata": {},
   "outputs": [],
   "source": [
    "job = execute(circuit, simulator, shots = 1000)\n",
    "results = job.result()\n",
    "plot_histogram(results.get_counts())"
   ]
  },
  {
   "cell_type": "markdown",
   "id": "f21eabe8",
   "metadata": {},
   "source": [
    "## Quantenrepeater"
   ]
  },
  {
   "cell_type": "markdown",
   "id": "15b4f50e",
   "metadata": {},
   "source": [
    "Sowohl bei der Dichten Kodierung als auch bei der Quantenteleportation mussten Alice und Bob über ein Paar verschränkter Qubits verfügen. Was kann aber getan werden, wenn Alice und Bob sich nie getroffen haben und auch sonst in keinem Kontakt zueinander standen? Ist es möglich durch eine Person zwischen den beiden einen _Quantenkanal_ aufzubauen? Der Hintergrund ist noch ein anderer: Je weiter ein verschränktes Qubit übertragen wird, desto anfälliger wird es dafür, dass durch Störeinflüsse die Verschränkung endet. (Dieser Effekt wächst exponentiell mit dem Abstand) Ist es möglich mit geringerem Ressourcenaufwand Quantenkanäle aufzubauen?"
   ]
  },
  {
   "cell_type": "markdown",
   "id": "111eccf9",
   "metadata": {},
   "source": [
    "### Vorbereitung"
   ]
  },
  {
   "cell_type": "markdown",
   "id": "70d63a2c",
   "metadata": {},
   "source": [
    "Alice und Bob stehen in keinem direkten Kontakt. Zwischen Ihnen befindet sich Charlie und ist in der Lage, beiden ein Qubit zukommen zu lassen. Charlie bereitet die beiden Qubits $a$ und $b$ mit dem unten stehenden Quantenschaltkreis vor."
   ]
  },
  {
   "cell_type": "code",
   "execution_count": null,
   "id": "d5185ec6",
   "metadata": {},
   "outputs": [],
   "source": [
    "# Erzeuge die Qubits a, b und 2 Qubits für Charlie\n",
    "alice = QuantumRegister(1, name = 'a')\n",
    "bob = QuantumRegister(1, name = 'b')\n",
    "charlie = QuantumRegister(2, name = 'c')\n",
    "\n",
    "# Fasse die Qubits zu einem Schalkreis zusammen\n",
    "circuit = QuantumCircuit(bob, charlie, alice)\n",
    "\n",
    "# Initialisiere die Qubits\n",
    "circuit.reset(range(4))\n",
    "\n",
    "# Verschränke die Qubits von Charlie mit den Qubits für Alice und Bob\n",
    "circuit.h(range(1, 3))\n",
    "circuit.cx(1, 0)\n",
    "circuit.cx(2, 3)\n",
    "\n",
    "# Zeichne den Schaltkreis\n",
    "circuit.draw(output = 'mpl')"
   ]
  },
  {
   "cell_type": "markdown",
   "id": "ae2a74ac",
   "metadata": {},
   "source": [
    "__Aufgabe__: In welchem Zustand befindet sich das Register $|R\\rangle=|a\\rangle|c_1\\rangle|c_0\\rangle|b\\rangle=|ac_1c_0b\\rangle$ nach dem Ausführen dieses Schaltkreises?"
   ]
  },
  {
   "cell_type": "markdown",
   "id": "1ebc6fa6",
   "metadata": {},
   "source": [
    "__Lösung__: Nach der Hadamard-Transformation befindet sich das Register im Zustand\n",
    "$$|R\\rangle=|0\\rangle|+\\rangle|+\\rangle|0\\rangle=\\frac{1}{2}|0\\rangle(|0\\rangle+|1\\rangle)(|0\\rangle+|1\\rangle)|0\\rangle\\\\\n",
    "=\\frac{1}{2}\\bigg(|0000\\rangle+|0010\\rangle+|0100\\rangle+|0110\\rangle\\bigg)$$\n",
    "Durch das Anwenden des CNOT-Gatters wird das Bit $|a\\rangle$ geflippt, wenn $c_1=1$ ist und das Bit $|b\\rangle$ wird geflippt, wenn $c_0 = 1$ ist. Also befindet sich das Register am Ende im Zustand\n",
    "$$|R\\rangle=\\frac{1}{2}\\bigg(|0000\\rangle+|0011\\rangle+|1100\\rangle+|1111\\rangle\\bigg)$$"
   ]
  },
  {
   "cell_type": "markdown",
   "id": "e3b2e8d6",
   "metadata": {},
   "source": [
    "### Übertragen der Qubits"
   ]
  },
  {
   "cell_type": "markdown",
   "id": "caf0ecbe",
   "metadata": {},
   "source": [
    "Nun verschickt Charlie die beiden Qubits an Alice und Bob. Nach dem diese die Qubits erhalten haben führt Charlie auf die Qubits, die sie behalten hat den untenstehenden Schaltkreis aus."
   ]
  },
  {
   "cell_type": "code",
   "execution_count": null,
   "id": "f355e549",
   "metadata": {},
   "outputs": [],
   "source": [
    "# Schaltkreis mit Charlies Qubits\n",
    "charlie = QuantumRegister(2, name = 'c')\n",
    "circuit = QuantumCircuit(charlie)\n",
    "\n",
    "circuit.cx(1, 0)\n",
    "circuit.h(1)\n",
    "\n",
    "circuit.draw(output = 'mpl')"
   ]
  },
  {
   "cell_type": "markdown",
   "id": "06bf2164",
   "metadata": {},
   "source": [
    "__Aufgabe__: In welchem Zustand befindet sich das Register nach dem Charlie diesen Schaltkreis angewendet hat?"
   ]
  },
  {
   "cell_type": "markdown",
   "id": "79d21b33",
   "metadata": {},
   "source": [
    "__Lösung__: Das CNOT-Gatter flippt das Bit $c_0$, wenn $c_1=1$ ist. Damit befindet sich das Register danach im Zustand\n",
    "$$|R\\rangle=\\frac{1}{2}\\bigg(|0000\\rangle+|0011\\rangle+|1110\\rangle+|1101\\rangle\\bigg)$$\n",
    "Nun wird auf das Bit $c_1$ die Hadamard-Matrix angewandt. Ist das Bit $0$, so wird es in den Zustand $|+\\rangle$ versetzt. Ist das Bit $1$, so wird es in den Zustand $|-\\rangle$ versetzt. Werden diese direkt ausmultipliziert, kann der Zustand\n",
    "$$|R\\rangle=\\frac{1}{2\\sqrt{2}}\\bigg(|0000\\rangle+|0100\\rangle+|0011\\rangle+|0111\\rangle+|1010\\rangle-|1110\\rangle+|1001\\rangle-|1101\\rangle\\bigg)$$\n",
    "gefunden werden."
   ]
  },
  {
   "cell_type": "markdown",
   "id": "7eb3c2c5",
   "metadata": {},
   "source": [
    "### Verschränkung erzeugen"
   ]
  },
  {
   "cell_type": "markdown",
   "id": "a8a732cd",
   "metadata": {},
   "source": [
    "Nun misst Charlie die beiden Qubits $c_0$ und $c_1$. \n",
    "\n",
    "__Aufgabe__: Erstelle eine Tabelle mit den Zuständen $|\\psi\\rangle=|a\\rangle|b\\rangle=|ab\\rangle$ für die möglichen Messergebnisse von Charlie."
   ]
  },
  {
   "cell_type": "markdown",
   "id": "c593f1d3",
   "metadata": {},
   "source": [
    "__Lösung__: \n",
    "\n",
    "| $c_1$ | $c_0$ | $|ab\\rangle$ |\n",
    "| -- | -- | -- |\n",
    "| $0$ | $0$ | $\\frac{1}{\\sqrt{2}}(|00\\rangle+|11\\rangle)$ |\n",
    "| $0$ | $1$ | $\\frac{1}{\\sqrt{2}}(|01\\rangle+|10\\rangle)$ |\n",
    "| $1$ | $0$ | $\\frac{1}{\\sqrt{2}}(|00\\rangle-|11\\rangle)$ |\n",
    "| $1$ | $1$ | $\\frac{1}{\\sqrt{2}}(|01\\rangle-|10\\rangle)$ |"
   ]
  },
  {
   "cell_type": "markdown",
   "id": "bc6ba82d",
   "metadata": {},
   "source": [
    "### Anpassen der Zustände\n",
    "In den beiden oben vorgestellten Methoden liegen die verschränkten Qubits immer im Zustand $|\\Phi^+\\rangle=\\frac{1}{\\sqrt{2}}(|00\\rangle+|11\\rangle)$ vor. Charlie teilt Bob die Messergebnisse mit.\n",
    "\n",
    "__Aufgabe__: Welche Opertationen muss Bob anwenden, damit die Qubits $|a\\rangle|b\\rangle$ am Ende im Zustand $|\\Phi^+\\rangle$ sind?"
   ]
  },
  {
   "cell_type": "markdown",
   "id": "335f60be",
   "metadata": {},
   "source": [
    "__Lösung__: \n",
    "* Im Falle $c_1=c_0=0$ befinden sich die Qubits bereits im richtigen Zustand und es muss nichts weiter getan werden.\n",
    "* Im Falle $c_1 = 0$ und $c_0=1$ befinden sich die Qubits stattdessen im Zustand $|\\Psi^+\\rangle$. Das Bit $|b\\rangle$ muss also nur geflippt werden. Durch das Anwenden von $X$ kann der richtige Zustand vorbereitet werden\n",
    "* Im Falle $c_1 = 1$ und $c_0=0$ befinden sich die beiden Bits im Zustand $|\\Phi^-\\rangle$. Hier ist das Vorzeichen des Zustands $|11\\rangle$ falsch. Es kann korrigiert werden, wenn auf das Bit $|b\\rangle$ die Operation $Z$ angewendet wird.\n",
    "* Im Falle $c_1 = 1 = c_0$ befinden sich die beiden Qubits im Zustand $|\\Psi^-\\rangle$. Zum einen muss das Bit $|b\\rangle$ geflippt werden, zum anderen muss das relative Vorzeichen durch das anschließende Anwenden von $Z$ korrigiert werden.\n",
    "\n",
    "Insgesamt zeigt sich also:\n",
    "* Ist $c_0=1$, so muss auf das Bit $|b\\rangle$ die Operation $X$ angewendet werden\n",
    "* Ist $c_1 = 1$, so muss auf das Bit $|b\\rangle$ die Operation $Z$ angewendet werden\n",
    "* Ist $c_0=c_1=1$, so muss zuerst $X$ und dann $Z$ angewendet werden"
   ]
  },
  {
   "cell_type": "markdown",
   "id": "73aa6f6d",
   "metadata": {},
   "source": [
    "### Implementierung des Algorithmus\n",
    "Ein solches Herstellen von verschränkten Quantenpaaren (Quantenkanälen) über eine Mittelsperson wird als [_Quantenrepeater_](https://de.wikipedia.org/wiki/Quantenrepeater) bezeichnet. Weil zwei zuvor miteinander unverschränkte Qubits durch das Verschränken zweier anderer Qubits und das anschließende Messen, miteinander verschränkt werden, wird diese Methode auch als _Entangelment swapping_ bezeichnet.\n",
    "\n",
    "__Aufgabe__: Implementiere das Verfahren in das untenstehende Code-Gerüst."
   ]
  },
  {
   "cell_type": "code",
   "execution_count": null,
   "id": "a9581f9f",
   "metadata": {
    "scrolled": true
   },
   "outputs": [],
   "source": [
    "# Erzeuge die Qubits a, b und 2 Qubits für Charlie\n",
    "alice = QuantumRegister(1, name = 'a')\n",
    "bob = QuantumRegister(1, name = 'b')\n",
    "charlie = QuantumRegister(2, name = 'c')\n",
    "\n",
    "classical = ClassicalRegister(2, name ='m')\n",
    "\n",
    "# Fasse die Qubits zu einem Schalkreis zusammen\n",
    "circuit = QuantumCircuit(bob, charlie, alice, classical)\n",
    "\n",
    "\n",
    "# Implementiere den Quantenrepeater\n",
    "# Initialisiere die Qubits\n",
    "circuit.reset(range(4))\n",
    "\n",
    "# Verschränke die Qubits von Charlie mit den Qubits für Alice und Bob\n",
    "circuit.h(range(1, 3))\n",
    "circuit.cx(1, 0)\n",
    "circuit.cx(2, 3)\n",
    "\n",
    "# Versenden der Qubits an Alice und Bob\n",
    "circuit.barrier()\n",
    "\n",
    "# Vervollständige den Rest des Quantenrepaters\n",
    "\n",
    "# Verschränken der Qubits von Charlie\n",
    "circuit.cx(2, 1)\n",
    "circuit.h(2)\n",
    "\n",
    "# Messen von Charlies Qubits\n",
    "circuit.measure(range(1, 3), range(2))\n",
    "\n",
    "# Übermitteln der Ergebnisse an Bob\n",
    "circuit.barrier()\n",
    "\n",
    "circuit.cx(1, 0)\n",
    "circuit.cz(2, 0)\n",
    "\n",
    "\n",
    "# Zeichne den Schaltkreis\n",
    "circuit.draw(output = 'mpl')"
   ]
  },
  {
   "cell_type": "markdown",
   "id": "49b3d6bf",
   "metadata": {},
   "source": [
    "### Schaltkreis des Schaltkreises\n",
    "Mit dem unten stehenden Code kannst Du prüfen, ob der Schaltkreis funktioniert."
   ]
  },
  {
   "cell_type": "code",
   "execution_count": null,
   "id": "53e9777f",
   "metadata": {},
   "outputs": [],
   "source": [
    "# Diese Codezeilen erweitern den Schaltkreis,\n",
    "# so dass der Zustand |phi+> auf |00> gedreht wird\n",
    "circuit.barrier()\n",
    "\n",
    "circuit.cx(0, 3)\n",
    "circuit.h(0)\n",
    "\n",
    "circuit.barrier()\n",
    "\n",
    "circuit.measure(0, 0)\n",
    "circuit.measure(3, 1)"
   ]
  },
  {
   "cell_type": "code",
   "execution_count": null,
   "id": "f982bcd3",
   "metadata": {},
   "outputs": [],
   "source": [
    "# Ausführen des Schaltkreises\n",
    "job = execute(circuit, simulator, shots = 1000)\n",
    "results = job.result()\n",
    "plot_histogram(results.get_counts())"
   ]
  },
  {
   "cell_type": "markdown",
   "id": "352b9cee",
   "metadata": {},
   "source": [
    "## Schlüsselerzeugung mit Qubits"
   ]
  },
  {
   "cell_type": "markdown",
   "id": "64d589fb",
   "metadata": {},
   "source": [
    "Alice und Bob wollen Nachrichten austauschen, die nur sie lesen können. Dazu möchten sie die Nachrichten verschlüsseln. Es gibt unzählige Verfahren Nachrichten zu ver- und entschlüsseln und dieses Feld der Mathematik heißt [_Kryptographie_](https://de.wikipedia.org/wiki/Kryptographie). Alice und Bob würden ihre Nachrichten nicht verschlüsseln, wenn sie nicht fürchten müssten, dass eine weitere Person Eve versuchen würde die Nachricht abzufangen. Daher kommt die Frage auf, ob Alice und Bob Quantencomputer benutzen könnten, um einen Geheimschlüssel zu erzeugen, den Eve nicht in die Hände bekommen kann."
   ]
  },
  {
   "cell_type": "markdown",
   "id": "e1f7aa27",
   "metadata": {},
   "source": [
    "### Alice vorgehen\n",
    "Alice beginnt damit zwei Qubits $|a_1\\rangle$ und $|a_0\\rangle$ im Zustand $|a_1a_0\\rangle=|00\\rangle$ zu erzeugen. Sie erzeugt damit zunächst zwei Zufallsbits $a_1', a_0'\\in\\{0, 1\\}$ mit je $50\\%$-iger Wahrscheinlichkeit für beide Ausgänge. Ist $a_1'=1$ so wendet sie auf $|a_0\\rangle$ die Hadamard-Transformation an. \n",
    "\n",
    "__Aufgabe__: Implementiere Alices vorgehen im untenstehenden Code-Gerüts."
   ]
  },
  {
   "cell_type": "code",
   "execution_count": null,
   "id": "335a7f61",
   "metadata": {},
   "outputs": [],
   "source": [
    "# Erstelle ein Register mit Alice Qubits\n",
    "alice = QuantumRegister(2, name = 'a')\n",
    "\n",
    "# Erstelle einen Quantenschaltkreis mit zwei klassischen Bits zum Messen\n",
    "classical = ClassicalRegister(2, name = '$a^{\\prime}$')\n",
    "circuit = QuantumCircuit(alice, classical)\n",
    "\n",
    "# Implementiere das oben beschriebene Verfahren\n",
    "# Initialisiere die Qubits\n",
    "circuit.reset(range(2))\n",
    "\n",
    "# Versetze beide in die Gleichgewichtige Position\n",
    "circuit.h(range(2))\n",
    "\n",
    "# Messe die beiden Qubits, um zufällige Bits zu erzeugen\n",
    "circuit.measure(range(2), range(2))\n",
    "\n",
    "\n",
    "# Ist a1 = 1, so wird H auf |a0> angewendet\n",
    "circuit.ch(1, 0)\n",
    "\n",
    "# Zeichne den Schaltkreis\n",
    "circuit.draw(output='mpl')"
   ]
  },
  {
   "cell_type": "markdown",
   "id": "9f428ca8",
   "metadata": {},
   "source": [
    "__Aufgabe__: Fertige eine Tabelle mit den möglichen Zuständen von $|a_0\\rangle$ nach dem Ausführen des Algorithmus für die möglichen Kombinationen von $a_0'$ und $a_1'$ aus."
   ]
  },
  {
   "cell_type": "markdown",
   "id": "8bedd65a",
   "metadata": {},
   "source": [
    "__Lösung__:\n",
    "\n",
    "| $a_1'$ | $a_0'$ | $|a_0\\rangle$ |\n",
    "| -- | -- | -- |\n",
    "| $0$ | $0$ | $|0\\rangle$ |\n",
    "| $0$ | $1$ | $|1\\rangle$ |\n",
    "| $1$ | $0$ | $|+\\rangle$ |\n",
    "| $1$ | $1$ | $|-\\rangle$ |"
   ]
  },
  {
   "cell_type": "markdown",
   "id": "f1ecb4f2",
   "metadata": {},
   "source": [
    "### Bobs vorgehen\n",
    "Alice schickt nun das Bit $|a_0\\rangle$ an Bob, hält das Bit $a_1'$ aber bei sich und geheim. Bob ist ebenfalls im Besitzt eines Qubits $|b_1\\rangle$ und erzeugt damit ein Zufallsbit $b_1'$. Ist $b_1'=1$, so wendet er die Hadamard-Transformation auf $|a_0\\rangle$ an. \n",
    "\n",
    "__Aufgabe__: Implementiere Bobs vorgehen im untenstehenden Code-Gerüst."
   ]
  },
  {
   "cell_type": "code",
   "execution_count": null,
   "id": "88058577",
   "metadata": {},
   "outputs": [],
   "source": [
    "# Erstelle Bobs Qubits. Qubit 0 erhält Bob von Alice\n",
    "bob = QuantumRegister(2, name = 'b')\n",
    "\n",
    "# Fasse alles zu einem Schaltkreis mit zwei klassischen Bits zum Messen zusammen\n",
    "classical = ClassicalRegister(2, name = '$b^{\\prime}$')\n",
    "circuit = QuantumCircuit(bob, classical)\n",
    "\n",
    "# Erstellen eines Extragatters, um das Empfangen von |a0> zu symbolisieren\n",
    "recive = qiskit.circuit.Gate(name = r'$|a_0\\rangle$', num_qubits = 1, params = [])\n",
    "circuit.append(recive, [0])\n",
    "circuit.barrier()\n",
    "\n",
    "# Implementiere Bobs vorgehen\n",
    "# Initialisieren b1\n",
    "circuit.reset(1)\n",
    "\n",
    "# Bringe b1 in die Gleichgewichtige Superposition\n",
    "circuit.h(1)\n",
    "\n",
    "# Messe das Bit b1 um b1' zu bestimmen\n",
    "circuit.measure(1, 1)\n",
    "\n",
    "# Ist b1' = 1, wende die Hadamard-Matrix auf |a0> an\n",
    "circuit.ch(1, 0)\n",
    "\n",
    "# Messe das Qubit |a0> und schreibe das Ergebnis in b0' \n",
    "circuit.measure(0, 0)\n",
    "\n",
    "# Zeichne den Schaltkreis\n",
    "circuit.draw(output = 'mpl', plot_barriers = False)"
   ]
  },
  {
   "cell_type": "markdown",
   "id": "a3ae03a5",
   "metadata": {},
   "source": [
    "__Aufgabe__: Erstelle eine Tabelle mit den möglichen Werten für $a_1'$, $a_0'$, $b_1'$ und $b_0'$. Ist kein eindeutiger Wert zuzuordnen, markiere dies mit $X$. Was folgt daraus für das Erstellen von Schlüsseln?"
   ]
  },
  {
   "cell_type": "markdown",
   "id": "27427be1",
   "metadata": {},
   "source": [
    "__Lösung__:\n",
    "\n",
    "| $a_1'$ | $a_0'$ | $b_1'$ | $b_0'$ |\n",
    "| -- | -- | -- | -- |\n",
    "| $0$ | $0$ | $0$ | $0$ |\n",
    "| $0$ | $0$ | $1$ | $X$ |\n",
    "| $0$ | $1$ | $0$ | $1$ |\n",
    "| $0$ | $1$ | $1$ | $X$ |\n",
    "| $1$ | $0$ | $0$ | $X$ |\n",
    "| $1$ | $0$ | $1$ | $0$ |\n",
    "| $1$ | $1$ | $0$ | $X$ |\n",
    "| $1$ | $1$ | $1$ | $1$ |\n",
    "\n",
    "Nur wenn $a_1'=b_1'$ gilt, ist auch $a_0'=b_0'$. Dann besitzen aber sowohl Alice als auch Bob die Bits des Schlüssels! Das bedeutet Bob kann das Bit $b_1'$ auf klassichem Kanal an Alice schicken und diese teilt Bob dann mit, ob die Bits übereingestimmt haben oder nicht. Sind die Bits gleich, nehmen sie $a_0'=b_0'$ in den Schlüssel auf. Sind die Bits verschieden, verwerfen sie $a_0'$ und $b_0'$."
   ]
  },
  {
   "cell_type": "markdown",
   "id": "34d3d9de",
   "metadata": {},
   "source": [
    "### Eve's Strategie\n",
    "Eve möchte gerne den Schlüssel, den Alice und Bob erzeugen abhören und so auch in Besitz des Schlüssels kommen. Zur Vereinfachung werden wir uns hier nur einer Strategie widmen, es gibt aber noch viele andere, deren Ausgang ähnlich ist. \n",
    "\n",
    "Am besten wäre es, wenn Eve das Qubit $|a_0\\rangle$ abfangen könnte, dieses Kopieren und an Bob weiterschicken. \n",
    "\n",
    "__Frage__: Warum geht das nicht?"
   ]
  },
  {
   "cell_type": "markdown",
   "id": "1f0e3dd4",
   "metadata": {},
   "source": [
    "__Antwort__: Das No-Cloning-Theorem besagt, dass Qubits nicht kopiert werden können."
   ]
  },
  {
   "cell_type": "markdown",
   "id": "7eb5cc23",
   "metadata": {},
   "source": [
    "Stattdessen muss die das Qubits $|a_0\\rangle$ messen. Sie weiß genau so wenig wie Bob, ob sie vorher die Hadamard-Matrix anwenden muss, oder nicht. Also geht sie genau wie Bob vor und erstellt ein Zufallsbit $e_1'$ und wendet entsprechend vor der Messung die Hadamard-Matrix an. Nach dem Messen schickt sie $|a_0\\rangle$ an Bob weiter. Ist $e_1'=1$, so muss sie nach dem Messen und vor dem Verschicken nochmal die Hadmard-Matrix anwenden.\n",
    "\n",
    "__Aufgabe__: fertige eine Tabelle für die möglichen Kombinationen von $a_1'$, $a_0'$, $e_1'$, $e_0'$, $b_1'$ und $b_0'$ an, bei denen Alice und Bob ihre Bits für den Schlüssel nicht verwerfen würden an. Was fällt Dir auf?"
   ]
  },
  {
   "cell_type": "markdown",
   "id": "0612be70",
   "metadata": {},
   "source": [
    "__Lösung__:\n",
    "\n",
    "| $a_1'$ | $a_0'$ | $e_1'$ | $e_0'$ | $b_1'$ | $b_0'$ |\n",
    "| -- | -- | -- | -- | -- | -- |\n",
    "| $0$ | $0$ | $0$ | $0$ | $0$ | $0$ |\n",
    "| $0$ | $0$ | $1$ | $X$ | $0$ | $X$ |\n",
    "| $0$ | $1$ | $0$ | $1$ | $0$ | $1$ |\n",
    "| $0$ | $1$ | $1$ | $X$ | $0$ | $X$ |\n",
    "| $1$ | $0$ | $0$ | $X$ | $1$ | $X$ |\n",
    "| $1$ | $0$ | $1$ | $0$ | $1$ | $0$ |\n",
    "| $1$ | $1$ | $0$ | $X$ | $1$ | $X$ |\n",
    "| $1$ | $1$ | $1$ | $1$ | $1$ | $1$ |\n",
    "\n",
    "Obwohl nur die Werte von $a_1'$ und $b_1'$ betrachtet wurden, bei denen sich die gleichen Bits $a_0'$ und $b_0'$ ergeben sollten, können nun verschiedene Ergebnisse für $a_0'$ und $b_0'$ eintreten."
   ]
  },
  {
   "cell_type": "markdown",
   "id": "f67dd7d0",
   "metadata": {},
   "source": [
    "__Aufgabe__: Bob schickt nu nicht nur das Bit $b_1'$ sondern auch $b_0'$ an Alice. Wie können sie so herausfinden, ob sie belauscht wurden? Wie wahrscheinlich ist es, dass Eve auffliegt?"
   ]
  },
  {
   "cell_type": "markdown",
   "id": "19f08eb6",
   "metadata": {},
   "source": [
    "__Lösung__: Sind $b_1'$ und $a_1'$ gleich, aber $b_0'$ und $a_0'$ unterschiedlich, so wurden Alice und Bob belauscht. Die Wahrscheinlichkeit dass Eve nicht auffliegt, kann aus der obigen Tabelle zu $\\frac{6}{8}=\\frac{3}{4}=75\\%$ bestimmt werden. Also fliegt Eve mit einer Wahrscheinlichkeit von $25\\%$ auf."
   ]
  },
  {
   "cell_type": "markdown",
   "id": "8d186b6f",
   "metadata": {},
   "source": [
    "__Anmerkung__: Es gibt noch viele andere Strategien, die verfolgt werden können doch bei allen zeigt sich grob folgender Zusammenhang: Je mehr Informationen Eve aus dem Bit entnimmt, desto höher die Chance, dass sie auffliegen kann, da sie das Qubit zu sehr verändert. "
   ]
  },
  {
   "cell_type": "markdown",
   "id": "25df452e",
   "metadata": {},
   "source": [
    "### Das BB84-Protokoll\n",
    "1984 entwickelten Charles Benneet und Gilles Brassard das folgenden [Protokoll](https://de.wikipedia.org/wiki/Quantenschl%C3%BCsselaustausch):\n",
    "  1. Alice erzeugt $2m$ Zufallsbits $a_{01}',\\dots, a_{0m}'$ und $a_{11}', \\dots a_{1m}'$\n",
    "  1. Ist das Bit $a_{1k}'=1$ so wendet sie $H$ auf $|a_{0k}\\rangle$ an.\n",
    "  1. Sie hält die Bits $a_{1k}'$ geheim und schickt die Bits $a_{0k}'$ an Bob\n",
    "  1. Bob erzeugt $m$ Zufallsbits $b_{10}',\\dots, b_{1m}'$. Ist $b_{1k}'=1$ so wendet er $H$ auf $|a_{0k}\\rangle$ an. Anschließend misst er die Bits und speichert das Ergebnis als $b_{00}', \\dots, b_{0m}'$\n",
    "  1. Bob schickt die $b_{1k}'$ an Alice. Diese vergleicht sie mit ihren $a_{1k}'$. Sind für ein festes $k$ die beiden Bits gleich, behalten Alice und Bob die Bits $a_{0k}'$ und $b_{0k}'$ als Teil des Schlüssel. Andernfalls verwerfen sie die entsprechenden Bits.\n",
    "  1. Bob schickt $l$ Bits des Schlüssels an Alices, welche sie mit ihren Bits vergleicht. Stellt sich heraus, dass ein Bit falsch ist, verwendne sie den Schlüssel nicht, denn sie wurden belauscht."
   ]
  },
  {
   "cell_type": "markdown",
   "id": "fbb4ed87",
   "metadata": {},
   "source": [
    "__Aufgabe__: Wie viele Bits des Schlüssels müssen Alice und Bob bei der obigen Lauschstrategie von Eve austauschen, um mit mindestens\n",
    "* $50$ prozentiger\n",
    "* $90$ prozentiger\n",
    "* $99$ prozentiger\n",
    "* $99{,}99$ prozentiger\n",
    "Wahrscheinlichkeit festzustellen zu können, ob sie belauscht wurden?"
   ]
  },
  {
   "cell_type": "markdown",
   "id": "35beed3b",
   "metadata": {
    "variables": {
     "int(np.ceil(np.log(1-0.5)/np.log(3/4)))": "3",
     "int(np.ceil(np.log(1-0.9)/np.log(3/4)))": "9",
     "int(np.ceil(np.log(1-0.99)/np.log(3/4)))": "17",
     "int(np.ceil(np.log(1-0.9999)/np.log(3/4)))": "33"
    }
   },
   "source": [
    "__Lösung__: Alice und Bob wollen mit Wahrscheinlichkeit $p$ herausfinden, ob Eve sie belauscht hat. Die Wahrscheinlichkeit, dass sie es _nicht_ feststellen, muss also kleiner als $1-p$ sein. Die Wahrscheinlichkeit bei $l$ Bits nicht festzustellen, dass gelauscht wurde, liegt bei $(3/4)^l$. Damit muss\n",
    "$$\\left(\\frac{3}{4}\\right)^l\\leq 1-p$$\n",
    "gelten. Diese Gleichung lässt sich auf\n",
    "$$l\\geq \\frac{\\ln{(1-p)}}{\\ln{(3/4)}}$$\n",
    "umformen. Damit kann folgende Tabelle erstellt werden:\n",
    "\n",
    "| $p$ | $l_{\\mathrm{min}}$ |\n",
    "| -- | -- |\n",
    "| $0{,}5$ | {{int(np.ceil(np.log(1-0.5)/np.log(3/4)))}} |\n",
    "| $0{,}9$ | {{int(np.ceil(np.log(1-0.9)/np.log(3/4)))}} |\n",
    "| $0{,}99$ | {{int(np.ceil(np.log(1-0.99)/np.log(3/4)))}} |\n",
    "| $0{,}9999$ | {{int(np.ceil(np.log(1-0.9999)/np.log(3/4)))}} |"
   ]
  }
 ],
 "metadata": {
  "kernelspec": {
   "display_name": "Python 3 (ipykernel)",
   "language": "python",
   "name": "python3"
  },
  "language_info": {
   "codemirror_mode": {
    "name": "ipython",
    "version": 3
   },
   "file_extension": ".py",
   "mimetype": "text/x-python",
   "name": "python",
   "nbconvert_exporter": "python",
   "pygments_lexer": "ipython3",
   "version": "3.8.1"
  }
 },
 "nbformat": 4,
 "nbformat_minor": 5
}
